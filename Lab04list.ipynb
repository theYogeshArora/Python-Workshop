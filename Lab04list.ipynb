{
  "nbformat": 4,
  "nbformat_minor": 0,
  "metadata": {
    "language_info": {
      "codemirror_mode": {
        "name": "ipython",
        "version": 3
      },
      "file_extension": ".py",
      "mimetype": "text/x-python",
      "name": "python",
      "nbconvert_exporter": "python",
      "pygments_lexer": "ipython3",
      "version": "3.8.5-final"
    },
    "orig_nbformat": 2,
    "kernelspec": {
      "name": "python3",
      "display_name": "Python 3",
      "language": "python"
    },
    "colab": {
      "name": "lab4list.ipynb",
      "provenance": [],
      "include_colab_link": true
    }
  },
  "cells": [
    {
      "cell_type": "markdown",
      "metadata": {
        "id": "view-in-github",
        "colab_type": "text"
      },
      "source": [
        "<a href=\"https://colab.research.google.com/github/theYogeshArora/Python-Workshop/blob/main/Lab04list.ipynb\" target=\"_parent\"><img src=\"https://colab.research.google.com/assets/colab-badge.svg\" alt=\"Open In Colab\"/></a>"
      ]
    },
    {
      "cell_type": "code",
      "metadata": {
        "colab": {
          "base_uri": "https://localhost:8080/"
        },
        "id": "oBlRGmN8tgDj",
        "outputId": "c9289a27-d18a-4f83-997d-e5e73a3fcdc4"
      },
      "source": [
        "# 1. Write a Python program to sum all the items in a list. \n",
        "sum=0\n",
        "firstList=[121,2,1221,3,1232,453,123,542]\n",
        "for x in  range(0,len(firstList)):\n",
        "    sum=sum+firstList[x]\n",
        "print(\"Sum of all the elements in given list:\",sum)"
      ],
      "execution_count": null,
      "outputs": [
        {
          "output_type": "stream",
          "text": [
            "Sum of all the elements in given list: 3697\n"
          ],
          "name": "stdout"
        }
      ]
    },
    {
      "cell_type": "code",
      "metadata": {
        "colab": {
          "base_uri": "https://localhost:8080/"
        },
        "id": "7DbhQk3HtgDu",
        "outputId": "7d5a0c00-350d-42a7-bb28-5a8992a8c809"
      },
      "source": [
        "#  2. Write a Python program to multiplies all the items in a list.  \n",
        "def multiply_list(items):\n",
        "    tot = 1\n",
        "    for x in items:\n",
        "        tot *= x\n",
        "    return tot\n",
        "print(multiply_list([17,49,95,61,5,223,42,122,8]))\n"
      ],
      "execution_count": null,
      "outputs": [
        {
          "output_type": "stream",
          "text": [
            "220633989088800\n"
          ],
          "name": "stdout"
        }
      ]
    },
    {
      "cell_type": "code",
      "metadata": {
        "colab": {
          "base_uri": "https://localhost:8080/"
        },
        "id": "3gZOsFvQtgDv",
        "outputId": "a695165b-c454-4380-9598-f0d504ed81a7"
      },
      "source": [
        "# 3. Write a Python program to get the largest number from a list\n",
        "def myMax(list1): \n",
        "\tmax = list1[0] \n",
        "\tfor x in list1: \n",
        "\t\tif x > max : \n",
        "\t\t\tmax = x \t\n",
        "\treturn max\n",
        "list1 = [1012, 1220, 42, 455, 919] \n",
        "print(\"Largest element is:\", myMax(list1)) \n"
      ],
      "execution_count": null,
      "outputs": [
        {
          "output_type": "stream",
          "text": [
            "Largest element is: 1220\n"
          ],
          "name": "stdout"
        }
      ]
    },
    {
      "cell_type": "code",
      "metadata": {
        "colab": {
          "base_uri": "https://localhost:8080/"
        },
        "id": "WklaQJJptgDv",
        "outputId": "d0d4169b-ead4-44ce-ea64-b9e15e6be98c"
      },
      "source": [
        "# 4. Write a Python program to get the smallest number from a list. \n",
        "l=[l for l in input(\"List:\").split(\",\")] \n",
        "print(\"The list is \",l) \n",
        "min1 = l[0] \n",
        "for i in range(len(l)): \n",
        "    if l[i] < min1:  \n",
        "        min1 = l[i] \n",
        "print(\"The smallest element in the list is \",min1) "
      ],
      "execution_count": null,
      "outputs": [
        {
          "output_type": "stream",
          "text": [
            "List:5,6,7,1,5,7\n",
            "The list is  ['5', '6', '7', '1', '5', '7']\n",
            "The smallest element in the list is  1\n"
          ],
          "name": "stdout"
        }
      ]
    },
    {
      "cell_type": "code",
      "metadata": {
        "colab": {
          "base_uri": "https://localhost:8080/"
        },
        "id": "drgT1vgStgDw",
        "outputId": "9ba3e0bc-9442-4de2-e189-af03a5816cc0"
      },
      "source": [
        "#  5. Write a Python program to count the number of strings where the string length is 2 or more and the first and last character are same from a given list of strings \n",
        "# Sample List : ['abc', 'xyz', 'aba', '1221']\n",
        "# Expected Result : 2\n",
        "def match_words(words):\n",
        "  ctr = 0\n",
        "  for word in words:\n",
        "    if len(word) > 1 and word[0] == word[-1]:\n",
        "      ctr += 1\n",
        "  return ctr\n",
        "print(match_words(['abc', 'xyz', 'aba', '1221']))\n"
      ],
      "execution_count": null,
      "outputs": [
        {
          "output_type": "stream",
          "text": [
            "2\n"
          ],
          "name": "stdout"
        }
      ]
    },
    {
      "cell_type": "code",
      "metadata": {
        "colab": {
          "base_uri": "https://localhost:8080/"
        },
        "id": "fgQdj2G3tgDw",
        "outputId": "3fe58df4-445e-46c7-a604-d6648749c725"
      },
      "source": [
        "# 6. Write a Python program to get a list, sorted in increasing order by the last element in each tuple from a given list of non-empty tuples.  \n",
        "# Sample List : [(2, 5), (1, 2), (4, 4), (2, 3), (2, 1)]\n",
        "# Expected Result : [(2, 1), (1, 2), (2, 3), (4, 4), (2, 5)]\n",
        "def last(n): return n[-1]\n",
        "def sort_list_last(tuples):\n",
        "  return sorted(tuples, key=last)\n",
        "print(sort_list_last([(2, 5), (1, 2), (4, 4), (2, 3), (2, 1)]))"
      ],
      "execution_count": null,
      "outputs": [
        {
          "output_type": "stream",
          "text": [
            "[(2, 1), (1, 2), (2, 3), (4, 4), (2, 5)]\n"
          ],
          "name": "stdout"
        }
      ]
    },
    {
      "cell_type": "code",
      "metadata": {
        "colab": {
          "base_uri": "https://localhost:8080/"
        },
        "id": "C6gj9amOtgDx",
        "outputId": "8e810324-a671-4f2c-e06c-8f333195ea3d"
      },
      "source": [
        "# 7. Write a Python program to remove duplicates from a list. \n",
        "\n",
        "duplicate = [21, 44, 110, 120, 55, 21, 120, 44, 21, 44,110]\n",
        "print(list(set(duplicate)))"
      ],
      "execution_count": null,
      "outputs": [
        {
          "output_type": "stream",
          "text": [
            "[44, 110, 21, 55, 120]\n"
          ],
          "name": "stdout"
        }
      ]
    },
    {
      "cell_type": "code",
      "metadata": {
        "colab": {
          "base_uri": "https://localhost:8080/"
        },
        "id": "8mUBAP1itgDx",
        "outputId": "24fe54b7-a593-478f-b1c8-d24846b882a2"
      },
      "source": [
        "#  8. Write a Python program to check a list is empty or not. \n",
        "lst = [] \n",
        "n = int(input(\"Enter number of elements : \")) \n",
        "for i in range(0, n): \n",
        "\tele = int(input()) \n",
        "\tlst.append(ele) \t\n",
        "print(lst) \n",
        "if len(lst)==0:\n",
        "    print (\"list is empty\")\n",
        "else:\n",
        "    print (\"list is not empty\")"
      ],
      "execution_count": null,
      "outputs": [
        {
          "output_type": "stream",
          "text": [
            "Enter number of elements : 0\n",
            "[]\n",
            "list is empty\n"
          ],
          "name": "stdout"
        }
      ]
    },
    {
      "cell_type": "code",
      "metadata": {
        "colab": {
          "base_uri": "https://localhost:8080/"
        },
        "id": "tivfejErtgDy",
        "outputId": "28fa577d-2056-4f24-c88f-9efcf512d8e3"
      },
      "source": [
        "#  9. Write a Python program to clone or copy a list. \n",
        "def Cloning(li1): \n",
        "    li_copy =[] \n",
        "    li_copy = li1.copy() \n",
        "    return li_copy \n",
        "li1 = [12, 7, 72, 101, 17, 21] \n",
        "li2 = Cloning(li1) \n",
        "print(\"Original List:\", li1) \n",
        "print(\"Clone list:\", li2) "
      ],
      "execution_count": null,
      "outputs": [
        {
          "output_type": "stream",
          "text": [
            "Original List: [12, 7, 72, 101, 17, 21]\n",
            "Clone list: [12, 7, 72, 101, 17, 21]\n"
          ],
          "name": "stdout"
        }
      ]
    },
    {
      "cell_type": "code",
      "metadata": {
        "colab": {
          "base_uri": "https://localhost:8080/"
        },
        "id": "JgqYyJJItgDy",
        "outputId": "0c8ebb0e-d38c-4078-c6ec-9c16740277f1"
      },
      "source": [
        "#  10. Write a Python program to find the list of words that are longer than n from a given list of words.  \n",
        "def long_words(n, str):\n",
        "    word_len = []\n",
        "    txt = str.split(\" \")\n",
        "    for x in txt:\n",
        "        if len(x) > n:\n",
        "            word_len.append(x)\n",
        "    return word_len\t\n",
        "print(long_words(3, \"this task is done by Mr. Yogesh Arora after a very long struggle \"))\n"
      ],
      "execution_count": null,
      "outputs": [
        {
          "output_type": "stream",
          "text": [
            "['this', 'task', 'done', 'Yogesh', 'Arora', 'after', 'very', 'long', 'struggle']\n"
          ],
          "name": "stdout"
        }
      ]
    },
    {
      "cell_type": "code",
      "metadata": {
        "colab": {
          "base_uri": "https://localhost:8080/"
        },
        "id": "8yfh28iWtgDz",
        "outputId": "395d2b7a-1b88-4af4-b4b4-136541953eb3"
      },
      "source": [
        "# 11. Write a Python function that takes two lists and returns True if they have at least one common member.  \n",
        "def common_member(a, b): \n",
        "    a_set = set(a) \n",
        "    b_set = set(b) \n",
        "    if len(a_set.intersection(b_set)) > 0: \n",
        "        return(True)  \n",
        "    return(False)    \n",
        "a = [7, 6, 9, 44, 15] \n",
        "b = [5, 3, 7, 81, 3] \n",
        "print(common_member(a, b)) \n",
        "a =[7, 6, 9, 5, 4] \n",
        "b =[1, 2, 3, 8] \n",
        "print(common_member(a, b)) "
      ],
      "execution_count": null,
      "outputs": [
        {
          "output_type": "stream",
          "text": [
            "True\n",
            "False\n"
          ],
          "name": "stdout"
        }
      ]
    },
    {
      "cell_type": "code",
      "metadata": {
        "colab": {
          "base_uri": "https://localhost:8080/"
        },
        "id": "0pi97Q5JtgDz",
        "outputId": "399348ed-54bd-4d1a-bc68-486f5cccc40b"
      },
      "source": [
        "# 12. Write a Python program to print a specified list after removing the 0th, 4th and 5th elements.  \n",
        "# Sample List : ['Red', 'Green', 'White', 'Black', 'Pink', 'Yellow']\n",
        "# Expected Output : ['Green', 'White', 'Black']\n",
        "color = ['Red', 'Green', 'White', 'Black', 'Pink', 'Yellow']\n",
        "color = [x for (i,x) in enumerate(color) if i not in (0,4,5)]\n",
        "print(color)"
      ],
      "execution_count": null,
      "outputs": [
        {
          "output_type": "stream",
          "text": [
            "['Green', 'White', 'Black']\n"
          ],
          "name": "stdout"
        }
      ]
    },
    {
      "cell_type": "code",
      "metadata": {
        "id": "hyHKmTjstgDz"
      },
      "source": [
        ""
      ],
      "execution_count": null,
      "outputs": []
    }
  ]
}