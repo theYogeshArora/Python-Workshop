{
  "nbformat": 4,
  "nbformat_minor": 0,
  "metadata": {
    "language_info": {
      "codemirror_mode": {
        "name": "ipython",
        "version": 3
      },
      "file_extension": ".py",
      "mimetype": "text/x-python",
      "name": "python",
      "nbconvert_exporter": "python",
      "pygments_lexer": "ipython3",
      "version": "3.8.5-final"
    },
    "orig_nbformat": 2,
    "kernelspec": {
      "name": "python3",
      "display_name": "Python 3",
      "language": "python"
    },
    "colab": {
      "name": "lab4list.ipynb",
      "provenance": [],
      "include_colab_link": true
    }
  },
  "cells": [
    {
      "cell_type": "markdown",
      "metadata": {
        "id": "view-in-github",
        "colab_type": "text"
      },
      "source": [
        "<a href=\"https://colab.research.google.com/github/theYogeshArora/Python-Workshop/blob/main/lab4list.ipynb\" target=\"_parent\"><img src=\"https://colab.research.google.com/assets/colab-badge.svg\" alt=\"Open In Colab\"/></a>"
      ]
    },
    {
      "cell_type": "code",
      "metadata": {
        "id": "oBlRGmN8tgDj",
        "outputId": "fda59387-150a-4422-8a6e-9a941a72b954"
      },
      "source": [
        "# 1. Write a Python program to sum all the items in a list. \n",
        "sum=0\n",
        "firstList=[121,23,121,3,232,4453,23,42]\n",
        "for x in  range(0,len(firstList)):\n",
        "    sum=sum+firstList[x]\n",
        "print(\"Sum of all the elements in given list:\",sum)"
      ],
      "execution_count": null,
      "outputs": [
        {
          "output_type": "stream",
          "text": [
            "Sum of all the elements in given list: 5018\n"
          ],
          "name": "stdout"
        }
      ]
    },
    {
      "cell_type": "code",
      "metadata": {
        "id": "7DbhQk3HtgDu",
        "outputId": "6ce2fbaf-8b91-4243-f25e-55f8df5816a5"
      },
      "source": [
        "#  2. Write a Python program to multiplies all the items in a list.  \n",
        "def multiply_list(items):\n",
        "    tot = 1\n",
        "    for x in items:\n",
        "        tot *= x\n",
        "    return tot\n",
        "print(multiply_list([1,4,5,6,5,223,42,2,8]))\n"
      ],
      "execution_count": null,
      "outputs": [
        {
          "output_type": "stream",
          "text": [
            "89913600\n"
          ],
          "name": "stdout"
        }
      ]
    },
    {
      "cell_type": "code",
      "metadata": {
        "id": "3gZOsFvQtgDv",
        "outputId": "f0a3ae74-aa14-4461-f93d-3bb329549afe"
      },
      "source": [
        "# 3. Write a Python program to get the largest number from a list\n",
        "\n",
        "\n",
        "def myMax(list1): \n",
        "\n",
        "\tmax = list1[0] \n",
        "\n",
        "\n",
        "\tfor x in list1: \n",
        "\t\tif x > max : \n",
        "\t\t\tmax = x \n",
        "\t\n",
        "\t\n",
        "\treturn max\n",
        "\n",
        "\n",
        "list1 = [10, 20, 4, 45, 99] \n",
        "print(\"Largest element is:\", myMax(list1)) \n"
      ],
      "execution_count": null,
      "outputs": [
        {
          "output_type": "stream",
          "text": [
            "Largest element is: 99\n"
          ],
          "name": "stdout"
        }
      ]
    },
    {
      "cell_type": "code",
      "metadata": {
        "id": "WklaQJJptgDv",
        "outputId": "cfbbe9a5-42cd-48e5-bb8a-64785181ccea"
      },
      "source": [
        "# 4. Write a Python program to get the smallest number from a list. \n",
        "l=[l for l in input(\"List:\").split(\",\")] \n",
        "print(\"The list is \",l) \n",
        "  \n",
        "min1 = l[0] \n",
        "  \n",
        "for i in range(len(l)): \n",
        "  \n",
        "\n",
        "    if l[i] < min1:  \n",
        "        min1 = l[i] \n",
        "  \n",
        "print(\"The smallest element in the list is \",min1) \n"
      ],
      "execution_count": null,
      "outputs": [
        {
          "output_type": "stream",
          "text": [
            "The list is  ['5', '45', '412', '1', '4']\n",
            "The smallest element in the list is  1\n"
          ],
          "name": "stdout"
        }
      ]
    },
    {
      "cell_type": "code",
      "metadata": {
        "id": "drgT1vgStgDw",
        "outputId": "1801753c-0160-4fde-d63e-2e7ac6ecd7a7"
      },
      "source": [
        "#  5. Write a Python program to count the number of strings where the string length is 2 or more and the first and last character are same from a given list of strings \n",
        "# Sample List : ['abc', 'xyz', 'aba', '1221']\n",
        "# Expected Result : 2\n",
        "\n",
        "def match_words(words):\n",
        "  ctr = 0\n",
        "\n",
        "  for word in words:\n",
        "    if len(word) > 1 and word[0] == word[-1]:\n",
        "      ctr += 1\n",
        "  return ctr\n",
        "\n",
        "print(match_words(['abc', 'xyz', 'aba', '1221']))\n"
      ],
      "execution_count": null,
      "outputs": [
        {
          "output_type": "stream",
          "text": [
            "2\n"
          ],
          "name": "stdout"
        }
      ]
    },
    {
      "cell_type": "code",
      "metadata": {
        "id": "fgQdj2G3tgDw",
        "outputId": "ec9bbac8-1b7a-44d7-9365-b0f6c660bf6f"
      },
      "source": [
        "# 6. Write a Python program to get a list, sorted in increasing order by the last element in each tuple from a given list of non-empty tuples.  \n",
        "# Sample List : [(2, 5), (1, 2), (4, 4), (2, 3), (2, 1)]\n",
        "# Expected Result : [(2, 1), (1, 2), (2, 3), (4, 4), (2, 5)]\n",
        "def last(n): return n[-1]\n",
        "\n",
        "def sort_list_last(tuples):\n",
        "  return sorted(tuples, key=last)\n",
        "\n",
        "print(sort_list_last([(2, 5), (1, 2), (4, 4), (2, 3), (2, 1)]))\n"
      ],
      "execution_count": null,
      "outputs": [
        {
          "output_type": "stream",
          "text": [
            "[(2, 1), (1, 2), (2, 3), (4, 4), (2, 5)]\n"
          ],
          "name": "stdout"
        }
      ]
    },
    {
      "cell_type": "code",
      "metadata": {
        "id": "C6gj9amOtgDx",
        "outputId": "5fbca840-d79e-4268-a8ac-045982cea996"
      },
      "source": [
        "# 7. Write a Python program to remove duplicates from a list. \n",
        "\n",
        "duplicate = [2, 4, 10, 20, 5, 2, 20, 4]\n",
        "print(list(set(duplicate)))"
      ],
      "execution_count": null,
      "outputs": [
        {
          "output_type": "stream",
          "text": [
            "[2, 4, 5, 10, 20]\n"
          ],
          "name": "stdout"
        }
      ]
    },
    {
      "cell_type": "code",
      "metadata": {
        "id": "8mUBAP1itgDx",
        "outputId": "895a0592-181d-4ee5-9048-3d96a72b24f7"
      },
      "source": [
        "#  8. Write a Python program to check a list is empty or not. \n",
        "\n",
        "lst = [] \n",
        "\n",
        "n = int(input(\"Enter number of elements : \")) \n",
        "\n",
        "\n",
        "for i in range(0, n): \n",
        "\tele = int(input()) \n",
        "\n",
        "\tlst.append(ele) \n",
        "\t\n",
        "print(lst) \n",
        "\n",
        "if len(lst)==0:\n",
        "    print (\"list is empty\")\n",
        "else:\n",
        "    print (\"list is not empty\")\n",
        "\n"
      ],
      "execution_count": null,
      "outputs": [
        {
          "output_type": "stream",
          "text": [
            "[2, 2]\n",
            "list is not empty\n"
          ],
          "name": "stdout"
        }
      ]
    },
    {
      "cell_type": "code",
      "metadata": {
        "id": "tivfejErtgDy",
        "outputId": "37d64414-bfd4-43a0-8cc3-db41641ef859"
      },
      "source": [
        "#  9. Write a Python program to clone or copy a list. \n",
        "def Cloning(li1): \n",
        "    li_copy =[] \n",
        "    li_copy = li1.copy() \n",
        "    return li_copy \n",
        "  \n",
        "\n",
        "li1 = [4, 8, 2, 10, 15, 18] \n",
        "li2 = Cloning(li1) \n",
        "print(\"Original List:\", li1) \n",
        "print(\"After Cloning:\", li2) "
      ],
      "execution_count": null,
      "outputs": [
        {
          "output_type": "stream",
          "text": [
            "Original List: [4, 8, 2, 10, 15, 18]\n",
            "After Cloning: [4, 8, 2, 10, 15, 18]\n"
          ],
          "name": "stdout"
        }
      ]
    },
    {
      "cell_type": "code",
      "metadata": {
        "id": "JgqYyJJItgDy",
        "outputId": "1aa65467-3e85-422d-f4a5-3e274b1fa759"
      },
      "source": [
        "#  10. Write a Python program to find the list of words that are longer than n from a given list of words.  \n",
        "def long_words(n, str):\n",
        "    word_len = []\n",
        "    txt = str.split(\" \")\n",
        "    for x in txt:\n",
        "        if len(x) > n:\n",
        "            word_len.append(x)\n",
        "    return word_len\t\n",
        "print(long_words(3, \"Hello i m a full stack web developer\"))\n"
      ],
      "execution_count": null,
      "outputs": [
        {
          "output_type": "stream",
          "text": [
            "['Hello', 'full', 'stack', 'developer']\n"
          ],
          "name": "stdout"
        }
      ]
    },
    {
      "cell_type": "code",
      "metadata": {
        "id": "8yfh28iWtgDz",
        "outputId": "060271ad-b38d-433b-e4ab-4bba88780894"
      },
      "source": [
        "# 11. Write a Python function that takes two lists and returns True if they have at least one common member.  \n",
        "def common_member(a, b): \n",
        "    a_set = set(a) \n",
        "    b_set = set(b) \n",
        "    if len(a_set.intersection(b_set)) > 0: \n",
        "        return(True)  \n",
        "    return(False)    \n",
        "  \n",
        "a = [1, 2, 3, 4, 5] \n",
        "b = [5, 6, 7, 8, 9] \n",
        "print(common_member(a, b)) \n",
        "  \n",
        "a =[1, 2, 3, 4, 5] \n",
        "b =[6, 7, 8, 9] \n",
        "print(common_member(a, b)) "
      ],
      "execution_count": null,
      "outputs": [
        {
          "output_type": "stream",
          "text": [
            "True\n",
            "False\n"
          ],
          "name": "stdout"
        }
      ]
    },
    {
      "cell_type": "code",
      "metadata": {
        "id": "0pi97Q5JtgDz",
        "outputId": "54917c64-550d-44be-e0c0-6b77e8b5cc3b"
      },
      "source": [
        "# 12. Write a Python program to print a specified list after removing the 0th, 4th and 5th elements.  \n",
        "# Sample List : ['Red', 'Green', 'White', 'Black', 'Pink', 'Yellow']\n",
        "# Expected Output : ['Green', 'White', 'Black']\n",
        "color = ['Red', 'Green', 'White', 'Black', 'Pink', 'Yellow']\n",
        "color = [x for (i,x) in enumerate(color) if i not in (0,4,5)]\n",
        "print(color)"
      ],
      "execution_count": null,
      "outputs": [
        {
          "output_type": "stream",
          "text": [
            "['Green', 'White', 'Black']\n"
          ],
          "name": "stdout"
        }
      ]
    },
    {
      "cell_type": "code",
      "metadata": {
        "id": "hyHKmTjstgDz"
      },
      "source": [
        ""
      ],
      "execution_count": null,
      "outputs": []
    }
  ]
}