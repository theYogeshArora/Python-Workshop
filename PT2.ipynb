{
  "nbformat": 4,
  "nbformat_minor": 0,
  "metadata": {
    "colab": {
      "name": "PT2.ipynb",
      "provenance": [],
      "authorship_tag": "ABX9TyMYpT9ky11fDqLZgF/Pn+Jy",
      "include_colab_link": true
    },
    "kernelspec": {
      "name": "python3",
      "display_name": "Python 3"
    },
    "language_info": {
      "name": "python"
    }
  },
  "cells": [
    {
      "cell_type": "markdown",
      "metadata": {
        "id": "view-in-github",
        "colab_type": "text"
      },
      "source": [
        "<a href=\"https://colab.research.google.com/github/theYogeshArora/Python-Workshop/blob/main/PT2.ipynb\" target=\"_parent\"><img src=\"https://colab.research.google.com/assets/colab-badge.svg\" alt=\"Open In Colab\"/></a>"
      ]
    },
    {
      "cell_type": "code",
      "metadata": {
        "colab": {
          "base_uri": "https://localhost:8080/"
        },
        "id": "iNldwj9kYDc8",
        "outputId": "59282c19-e9b2-4402-da99-ee1793a45828"
      },
      "source": [
        "Semester4={\n",
        "    \"student_name\" : [\"abc\",\"xyz\",\"def\"],\n",
        "\"experiment_items\" : [\"test tube\",\"chemical\",\"stirrer\",\"water\"],\n",
        "\"num_of_items\" : [10,10,5,50]\n",
        "}\n",
        "print(Semester4)"
      ],
      "execution_count": null,
      "outputs": [
        {
          "output_type": "stream",
          "text": [
            "{'student_name': ['abc', 'xyz', 'def'], 'experiment_items': ['test tube', 'chemical', 'stirrer', 'water'], 'num_of_items': [10, 10, 5, 50]}\n"
          ],
          "name": "stdout"
        }
      ]
    },
    {
      "cell_type": "code",
      "metadata": {
        "colab": {
          "base_uri": "https://localhost:8080/"
        },
        "id": "75O9RVDalY7v",
        "outputId": "921fcd24-c9c3-45d0-b61f-95733693390f"
      },
      "source": [
        "#a\n",
        "for i in Semester4.values():\n",
        "    for j in i:\n",
        "        print(j)"
      ],
      "execution_count": null,
      "outputs": [
        {
          "output_type": "stream",
          "text": [
            "abc\n",
            "xyz\n",
            "def\n",
            "test tube\n",
            "chemical\n",
            "stirrer\n",
            "water\n",
            "10\n",
            "10\n",
            "5\n",
            "50\n"
          ],
          "name": "stdout"
        }
      ]
    },
    {
      "cell_type": "code",
      "metadata": {
        "colab": {
          "base_uri": "https://localhost:8080/"
        },
        "id": "uyCzZNcHcHA9",
        "outputId": "99c3cf45-e979-4eab-cad8-e6cced33afad"
      },
      "source": [
        "#b\n",
        "Semester4[\"faculty_assigned\"]= [\"XYZ\",\"QWE\",\"RTY\",\"ASD\"]\n",
        "print(Semester4)"
      ],
      "execution_count": null,
      "outputs": [
        {
          "output_type": "stream",
          "text": [
            "{'student_name': ['abc', 'xyz', 'def'], 'experiment_items': ['chemical', 'stirrer', 'test tube', 'water'], 'num_of_items': [10, 10, 5, 50], 'faculty_assigned': ['XYZ', 'QWE', 'RTY', 'ASD']}\n"
          ],
          "name": "stdout"
        }
      ]
    },
    {
      "cell_type": "code",
      "metadata": {
        "colab": {
          "base_uri": "https://localhost:8080/"
        },
        "id": "NSP6dRXlf75P",
        "outputId": "bea1d92e-a41e-4273-ba51-ceb6f9c7f260"
      },
      "source": [
        "#c\n",
        "l = Semester4[\"experiment_items\"]\n",
        "print(\"before sorting \\n\")\n",
        "print(l)\n",
        "l.sort()\n",
        "print(\" \\n after sorting \\n\")\n",
        "print(l)"
      ],
      "execution_count": null,
      "outputs": [
        {
          "output_type": "stream",
          "text": [
            "before sorting \n",
            "\n",
            "['test tube', 'chemical', 'stirrer', 'water']\n",
            " \n",
            " after sorting \n",
            "\n",
            "['chemical', 'stirrer', 'test tube', 'water']\n"
          ],
          "name": "stdout"
        }
      ]
    },
    {
      "cell_type": "code",
      "metadata": {
        "colab": {
          "base_uri": "https://localhost:8080/"
        },
        "id": "M3gZUQKkltan",
        "outputId": "59ec4f5b-fb18-445f-cbf5-42f1fc49426a"
      },
      "source": [
        "#d\n",
        "for i in Semester4.get(\"num_of_items\"):\n",
        "    ans=i+4\n",
        "    print(ans)"
      ],
      "execution_count": null,
      "outputs": [
        {
          "output_type": "stream",
          "text": [
            "14\n",
            "14\n",
            "9\n",
            "54\n"
          ],
          "name": "stdout"
        }
      ]
    },
    {
      "cell_type": "code",
      "metadata": {
        "colab": {
          "base_uri": "https://localhost:8080/"
        },
        "id": "KjIOS-X9qmA7",
        "outputId": "9f33a5d2-6ea9-4896-ff2b-e5b4a7fd4b5a"
      },
      "source": [
        "#e\n",
        "for i in Semester4.keys():\n",
        "    x=slice(1,2,1)\n",
        "    for j in tuple (Semester4.get(i))[x]:\n",
        "        print(j)"
      ],
      "execution_count": null,
      "outputs": [
        {
          "output_type": "stream",
          "text": [
            "xyz\n",
            "stirrer\n",
            "10\n",
            "QWE\n"
          ],
          "name": "stdout"
        }
      ]
    }
  ]
}