{
  "nbformat": 4,
  "nbformat_minor": 0,
  "metadata": {
    "language_info": {
      "codemirror_mode": {
        "name": "ipython",
        "version": 3
      },
      "file_extension": ".py",
      "mimetype": "text/x-python",
      "name": "python",
      "nbconvert_exporter": "python",
      "pygments_lexer": "ipython3",
      "version": "3.8.5"
    },
    "orig_nbformat": 2,
    "kernelspec": {
      "name": "python3",
      "display_name": "Python 3",
      "language": "python"
    },
    "colab": {
      "name": "Functions.ipynb",
      "provenance": [],
      "include_colab_link": true
    }
  },
  "cells": [
    {
      "cell_type": "markdown",
      "metadata": {
        "id": "view-in-github",
        "colab_type": "text"
      },
      "source": [
        "<a href=\"https://colab.research.google.com/github/theYogeshArora/Python-Workshop/blob/main/LabFunctions.ipynb\" target=\"_parent\"><img src=\"https://colab.research.google.com/assets/colab-badge.svg\" alt=\"Open In Colab\"/></a>"
      ]
    },
    {
      "cell_type": "code",
      "metadata": {
        "id": "nCZcGHeMBZMT",
        "outputId": "5a6cc713-55a0-49a4-eb8e-1f0d2d4b7c7a"
      },
      "source": [
        "# Q1. Write a program to multiply two numbers using functions.\n",
        "def multiply(x, y):\n",
        "    return (x * y)\n",
        "\n",
        "a = 10\n",
        "b = 12\n",
        "print(\"Product:\", multiply(a, b))"
      ],
      "execution_count": null,
      "outputs": [
        {
          "output_type": "stream",
          "text": [
            "Product: 120\n"
          ],
          "name": "stdout"
        }
      ]
    },
    {
      "cell_type": "code",
      "metadata": {
        "id": "CkUFoLj0BZMY",
        "outputId": "a4f4f771-8c11-4ea9-9e86-6cdefc7e608f"
      },
      "source": [
        "# Q2. Write a program to add two numbers using functions.\n",
        "def sum(x, y):\n",
        "    return (x + y)\n",
        "\n",
        "a = 14\n",
        "b = 13\n",
        "print(\"Sum:\", sum(a, b))"
      ],
      "execution_count": null,
      "outputs": [
        {
          "output_type": "stream",
          "text": [
            "Sum: 27\n"
          ],
          "name": "stdout"
        }
      ]
    },
    {
      "cell_type": "code",
      "metadata": {
        "id": "Cxs2nTQXBZMZ",
        "outputId": "999705ac-dbfb-4c1a-f5ae-94175a380904"
      },
      "source": [
        "# Q3. Calculate factorial of a number using function.\n",
        "def factorial(num):\n",
        "    res = 1\n",
        "    for i in range(1,num+1):\n",
        "        res *= i\n",
        "    return res\n",
        "\n",
        "print(\"Factorial:\", factorial(6))"
      ],
      "execution_count": null,
      "outputs": [
        {
          "output_type": "stream",
          "text": [
            "Factorial: 720\n"
          ],
          "name": "stdout"
        }
      ]
    },
    {
      "cell_type": "code",
      "metadata": {
        "id": "pgZeXxTLBZMZ",
        "outputId": "39e8afb5-1336-4ff7-d851-f38fb82e2590"
      },
      "source": [
        "# Q4. Create sequence of Fibonacci using function.\n",
        "def fibonacci(length):\n",
        "    a = 0\n",
        "    b = 1\n",
        "    print(\"Fibonacci: \" + str(a) + \", \" + str(b), end=\"\")\n",
        "    for i in range(2, length):\n",
        "        s = a + b\n",
        "        print(\", \" + str(s), end=\"\")\n",
        "        a = b\n",
        "        b = s\n",
        "\n",
        "fibonacci(10)"
      ],
      "execution_count": null,
      "outputs": [
        {
          "output_type": "stream",
          "text": [
            "Fibonacci: 0, 1, 1, 2, 3, 5, 8, 13, 21, 34"
          ],
          "name": "stdout"
        }
      ]
    },
    {
      "cell_type": "code",
      "metadata": {
        "id": "5a6j5MVxBZMZ",
        "outputId": "3919b723-46ee-434b-c577-896365fe0c4e"
      },
      "source": [
        "# Q5. Write a program to swapping of two numbers using functions.\n",
        "def swap(a, b):\n",
        "    temp = 0\n",
        "    temp = a\n",
        "    a = b\n",
        "    b = temp\n",
        "    print(\"After Swapping: a = {} & b = {}\".format(a,b))\n",
        "\n",
        "a = 10\n",
        "b = 20\n",
        "print(\"Before Swapping: a = {} & b = {}\".format(a,b))\n",
        "swap(a,b)"
      ],
      "execution_count": null,
      "outputs": [
        {
          "output_type": "stream",
          "text": [
            "Before Swapping: a = 10 & b = 20\n",
            "After Swapping: a = 20 & b = 10\n"
          ],
          "name": "stdout"
        }
      ]
    },
    {
      "cell_type": "code",
      "metadata": {
        "id": "dZrWz805BZMa",
        "outputId": "7add89ca-88c7-4a3f-aa25-c3869d3bab77"
      },
      "source": [
        "# Q6. Write a function to find the HCF of some given numbers.\n",
        "def compute_hcf(x, y):\n",
        "    if x > y:\n",
        "        small = y\n",
        "    else:\n",
        "        small = x\n",
        "\n",
        "    for i in range(1, small + 1):\n",
        "        if (x%i == 0) and (y%i == 0):\n",
        "            hcf = i\n",
        "    return hcf\n",
        "\n",
        "num1 = 20\n",
        "num2 = 24\n",
        "print(\"HCF: {}\".format(compute_hcf(num1, num2)))"
      ],
      "execution_count": null,
      "outputs": [
        {
          "output_type": "stream",
          "text": [
            "HCF: 4\n"
          ],
          "name": "stdout"
        }
      ]
    },
    {
      "cell_type": "code",
      "metadata": {
        "id": "WMHii9gPBZMa",
        "outputId": "f5c42e57-db22-421c-c3b6-5720284db10a"
      },
      "source": [
        "# Q7. Write a function to find the ASCII value of the character.\n",
        "def get_ascii(num):\n",
        "    return ord(num)\n",
        "\n",
        "num = 'A'\n",
        "print(\"ASCII value:\",get_ascii(num))"
      ],
      "execution_count": null,
      "outputs": [
        {
          "output_type": "stream",
          "text": [
            "ASCII value: 65\n"
          ],
          "name": "stdout"
        }
      ]
    },
    {
      "cell_type": "code",
      "metadata": {
        "id": "hN3aL4o1BZMa",
        "outputId": "d3ba2c4a-09e3-406d-ed09-abb250a20fa4"
      },
      "source": [
        "# Q8. Write a program that demonstrates the (built in function) mathematical functions.\n",
        "import math\n",
        "a = 49\n",
        "print(\"Squre root of {} is: {}\".format(a, math.sqrt(a)))"
      ],
      "execution_count": null,
      "outputs": [
        {
          "output_type": "stream",
          "text": [
            "Squre root of 49 is: 7.0\n"
          ],
          "name": "stdout"
        }
      ]
    },
    {
      "cell_type": "code",
      "metadata": {
        "id": "1zqNTdn1BZMb",
        "colab": {
          "base_uri": "https://localhost:8080/"
        },
        "outputId": "d4b6058d-2f1d-4779-9b52-6c37b5d0749c"
      },
      "source": [
        "# Q9. Write a program that demonstrates the (built in function) Date & Time functions.\n",
        "import datetime\n",
        "print(\"Todays date is:\", datetime.date.today())"
      ],
      "execution_count": 1,
      "outputs": [
        {
          "output_type": "stream",
          "text": [
            "Todays date is: 2021-03-31\n"
          ],
          "name": "stdout"
        }
      ]
    },
    {
      "cell_type": "code",
      "metadata": {
        "id": "q7IdrqRQBZMb",
        "outputId": "10f1648f-8423-4c0a-be4b-7717c293b233"
      },
      "source": [
        "# Q10. Write a program that demonstrates Required arguments.\n",
        "def printme( str ):\n",
        "   \"This prints a passed string into this function\"\n",
        "   print (str)\n",
        "   return\n",
        "\n",
        "printme(\"function call\")"
      ],
      "execution_count": null,
      "outputs": [
        {
          "output_type": "stream",
          "text": [
            "function call\n"
          ],
          "name": "stdout"
        }
      ]
    },
    {
      "cell_type": "code",
      "metadata": {
        "id": "FBxVNoSvBZMb",
        "colab": {
          "base_uri": "https://localhost:8080/"
        },
        "outputId": "1ab89c72-c0e6-4f83-d81e-2737b02326c3"
      },
      "source": [
        "# Q11. Write a program that demonstrates keyword arguments.\n",
        "def student(name, rno):\n",
        "    print(\"Name:\", name)\n",
        "    print(\"Roll no:\", rno)\n",
        "\n",
        "student(name=\"Yogesh\", rno=\"1120\")"
      ],
      "execution_count": 3,
      "outputs": [
        {
          "output_type": "stream",
          "text": [
            "Name: Yogesh\n",
            "Roll no: 1120\n"
          ],
          "name": "stdout"
        }
      ]
    },
    {
      "cell_type": "code",
      "metadata": {
        "id": "qy-P3xioBZMb",
        "colab": {
          "base_uri": "https://localhost:8080/"
        },
        "outputId": "ac80b7d1-31af-4ade-94f1-8b27f5d6bd38"
      },
      "source": [
        "# Q12. Write a program that demonstrates Default arguments.\n",
        "def test_function(x, y=100):\n",
        "    return (x + y)/2\n",
        "\n",
        "print(\"Result\", test_function(10))"
      ],
      "execution_count": 6,
      "outputs": [
        {
          "output_type": "stream",
          "text": [
            "Result 55.0\n"
          ],
          "name": "stdout"
        }
      ]
    },
    {
      "cell_type": "code",
      "metadata": {
        "id": "ipO6mgt0BZMc",
        "outputId": "bea51f57-6c76-496c-f0eb-70c0d4077d87"
      },
      "source": [
        "# Q13. Write a program that demonstrates Variable–length arguments.\n",
        "def myFun(*argv):  \n",
        "    for arg in argv:  \n",
        "        print (arg) \n",
        "    \n",
        "myFun('lab', 'exercise', 'for', 'python')"
      ],
      "execution_count": null,
      "outputs": [
        {
          "output_type": "stream",
          "text": [
            "lab\n",
            "exercise\n",
            "for\n",
            "python\n"
          ],
          "name": "stdout"
        }
      ]
    }
  ]
}