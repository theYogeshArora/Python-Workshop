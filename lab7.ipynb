{
  "nbformat": 4,
  "nbformat_minor": 0,
  "metadata": {
    "language_info": {
      "codemirror_mode": {
        "name": "ipython",
        "version": 3
      },
      "file_extension": ".py",
      "mimetype": "text/x-python",
      "name": "python",
      "nbconvert_exporter": "python",
      "pygments_lexer": "ipython3",
      "version": "3.8.6-final"
    },
    "orig_nbformat": 2,
    "kernelspec": {
      "name": "python3",
      "display_name": "Python 3.8.6 64-bit",
      "metadata": {
        "interpreter": {
          "hash": "df0893f56f349688326838aaeea0de204df53a132722cbd565e54b24a8fec5f6"
        }
      }
    },
    "colab": {
      "name": "lab7.ipynb",
      "provenance": [],
      "include_colab_link": true
    }
  },
  "cells": [
    {
      "cell_type": "markdown",
      "metadata": {
        "id": "view-in-github",
        "colab_type": "text"
      },
      "source": [
        "<a href=\"https://colab.research.google.com/github/theYogeshArora/Python-Workshop/blob/main/lab7.ipynb\" target=\"_parent\"><img src=\"https://colab.research.google.com/assets/colab-badge.svg\" alt=\"Open In Colab\"/></a>"
      ]
    },
    {
      "cell_type": "code",
      "metadata": {
        "id": "NW8rOxf8MzyP"
      },
      "source": [
        "\n",
        "\n",
        "# \tMANAV RACHNA UNIVERSITY, FARIDABAD\n",
        "#                         Department of Computer Science  and Technology\n",
        "\n",
        "# Course: B.Tech(CSE)    \t\t\t                                                       Semester:IV                                                                                                                                 Subject:  Programming for Problem Solving using Python(CSW208B)                  Session: 2020-21\n",
        "# Lab 7: Operation on dictionary  : hands-on practice\n",
        "\n",
        "# Learning Outcome CO1:  Student will be able to implement concepts of Dictionary  in Python\n",
        "# Blooms Taxonomy Level: BT1, BT2, BT3\n",
        "# Dictionary\n",
        "# submitted by Yogesh Arora\n"
      ],
      "execution_count": null,
      "outputs": []
    },
    {
      "cell_type": "code",
      "metadata": {
        "id": "t1Edhf1_MzyT",
        "outputId": "0c04e0c5-f704-4a7c-bbae-d7eb1647d618"
      },
      "source": [
        "# 1.Create an empty dictionary\n",
        "emp_dict = {\n",
        "\n",
        "}\n",
        "print(emp_dict)"
      ],
      "execution_count": null,
      "outputs": [
        {
          "output_type": "stream",
          "text": [
            "{}\n"
          ],
          "name": "stdout"
        }
      ]
    },
    {
      "cell_type": "code",
      "metadata": {
        "id": "QR1oh1KQMzyU",
        "outputId": "86bc3361-ec22-43dc-b3b7-40bfc932bf3b"
      },
      "source": [
        "# 2.Create the following dictionary \n",
        "# a.Key\tvalue\n",
        "# b.A\t10\n",
        "# c.B\t20\n",
        "\n",
        "first_dict={\n",
        "    \"A\":10,\n",
        "    \"B\":20\n",
        " \n",
        "}\n",
        "print(first_dict)"
      ],
      "execution_count": null,
      "outputs": [
        {
          "output_type": "stream",
          "text": [
            "{'A': 10, 'B': 20}\n"
          ],
          "name": "stdout"
        }
      ]
    },
    {
      "cell_type": "code",
      "metadata": {
        "id": "ehO8YPL5MzyU",
        "outputId": "2879534c-a2ae-419e-aaf9-cf4f381de8d0"
      },
      "source": [
        "# 3.Create a dictionary with different datatypes for keys\n",
        "\n",
        "diff_dt_dict={\n",
        "    \"int\":1,\n",
        "    \"float\":1.2,\n",
        "    \"char\":'a',\n",
        "    \"str\":\"harsh\",\n",
        "\n",
        "}\n",
        "print(diff_dt_dict)\n"
      ],
      "execution_count": null,
      "outputs": [
        {
          "output_type": "stream",
          "text": [
            "{'int': 1, 'float': 1.2, 'char': 'a', 'str': 'harsh'}\n"
          ],
          "name": "stdout"
        }
      ]
    },
    {
      "cell_type": "code",
      "metadata": {
        "id": "NkNEDakuMzyU",
        "outputId": "7103db58-6b99-4ed3-a783-da018c8cb150"
      },
      "source": [
        "# 4.Print all the items of a dictionary\n",
        "\n",
        "all_dict={\n",
        "    \"int\":1,\n",
        "    \"float\":1.2,\n",
        "    \"char\":'a',\n",
        "    \"str\":\"harsh\",\n",
        "\n",
        "}\n",
        "x=all_dict.keys()\n",
        "y=all_dict.values()\n",
        "\n",
        "\n",
        "print(x)\n",
        "print(y)\n",
        "\n"
      ],
      "execution_count": null,
      "outputs": [
        {
          "output_type": "stream",
          "text": [
            "dict_keys(['int', 'float', 'char', 'str'])\n",
            "dict_values([1, 1.2, 'a', 'harsh'])\n"
          ],
          "name": "stdout"
        }
      ]
    },
    {
      "cell_type": "code",
      "metadata": {
        "id": "N8Y9_TnXMzyU",
        "outputId": "859ca342-0878-44aa-d645-61f5a90657ba"
      },
      "source": [
        "# 5.Delete an element of a dictionary\n",
        "del_dict={\n",
        "    \"int\":1,\n",
        "    \"float\":1.2,\n",
        "    \"char\":'a',\n",
        "    \"str\":\"harsh\",\n",
        "\n",
        "}\n",
        "\n",
        "del_dict.pop(\"char\")\n",
        "print(del_dict)"
      ],
      "execution_count": null,
      "outputs": [
        {
          "output_type": "stream",
          "text": [
            "{'int': 1, 'float': 1.2, 'str': 'harsh'}\n"
          ],
          "name": "stdout"
        }
      ]
    },
    {
      "cell_type": "code",
      "metadata": {
        "id": "pT_6JwUhMzyV",
        "outputId": "7d847c13-94e0-4477-fa0a-d735c5cf5292"
      },
      "source": [
        "# 6.Delete full dictionary\n",
        "del_dict={\n",
        "    \"int\":1,\n",
        "    \"float\":1.2,\n",
        "    \"char\":'a',\n",
        "    \"str\":\"harsh\",\n",
        "\n",
        "}\n",
        "del_dict.clear()\n",
        "print(del_dict)"
      ],
      "execution_count": null,
      "outputs": [
        {
          "output_type": "stream",
          "text": [
            "{}\n"
          ],
          "name": "stdout"
        }
      ]
    },
    {
      "cell_type": "code",
      "metadata": {
        "id": "PivJqVtfMzyV",
        "outputId": "7a3ab5ed-090d-4510-eae9-45f991d0f366"
      },
      "source": [
        "# 7.Print a value for a key \n",
        "dic = {\n",
        "  \"brand\": \"void\",\n",
        "  \"model\": \"D.S.R\",\n",
        "  \"year\": 2000\n",
        "}\n",
        "x = dic[\"model\"]\n",
        "print(x)\n"
      ],
      "execution_count": null,
      "outputs": [
        {
          "output_type": "stream",
          "text": [
            "D.S.R\n"
          ],
          "name": "stdout"
        }
      ]
    },
    {
      "cell_type": "code",
      "metadata": {
        "id": "DLQYzUIWMzyV",
        "outputId": "24d7a060-7e7c-46e8-fc2f-33cee8c44f19"
      },
      "source": [
        "# 8.To check if a key id present in a dictionary\n",
        "dic = {\n",
        "  \"brand\": \"VOID\",\n",
        "  \"model\": \"D.S.R\",\n",
        "  \"year\": 22000\n",
        "}\n",
        "if \"model\" in dic:\n",
        "  print(\"Yes, 'model' is one of the keys in the dic dictionary\")\n"
      ],
      "execution_count": null,
      "outputs": [
        {
          "output_type": "stream",
          "text": [
            "Yes, 'model' is one of the keys in the dic dictionary\n"
          ],
          "name": "stdout"
        }
      ]
    },
    {
      "cell_type": "code",
      "metadata": {
        "id": "WcKtuZXDMzyW",
        "outputId": "d4b6e2d8-be4c-416c-f1df-f7c5a74c19b2"
      },
      "source": [
        "# 9.Update a value of a key\n",
        "dic = {\n",
        "  \"brand\": \"VOID\",\n",
        "  \"model\": \"D.S.R\",\n",
        "  \"year\": 2000\n",
        "}\n",
        "dic.update({\"year\": 2020})\n",
        "print(dic)\n"
      ],
      "execution_count": null,
      "outputs": [
        {
          "output_type": "stream",
          "text": [
            "{'brand': 'VOID', 'model': 'D.S.R', 'year': 2020}\n"
          ],
          "name": "stdout"
        }
      ]
    },
    {
      "cell_type": "code",
      "metadata": {
        "id": "boFgvYNQMzyW",
        "outputId": "1d8f3672-f2c1-466a-c8f7-a15513f28341"
      },
      "source": [
        "# 10.Add a new key value pair\n",
        "CountryCodeDict = {\"India\": 91, \"UK\" : 44 , \"USA\" : 1}\n",
        "print(CountryCodeDict)\n",
        "CountryCodeDict[\"Spain\"]= 34\n",
        "print (\"After adding\")\n",
        "print(CountryCodeDict)\n"
      ],
      "execution_count": null,
      "outputs": [
        {
          "output_type": "stream",
          "text": [
            "{'India': 91, 'UK': 44, 'USA': 1}\n",
            "After adding\n",
            "{'India': 91, 'UK': 44, 'USA': 1, 'Spain': 34}\n"
          ],
          "name": "stdout"
        }
      ]
    },
    {
      "cell_type": "code",
      "metadata": {
        "id": "uXIcNde5MzyW",
        "outputId": "abf84a90-2bf6-44c4-a5bd-d60a462454ef"
      },
      "source": [
        "# 11.Print dictionary for keys{1,10} and values as square of keys\n",
        "number = int(input(\"Please enter the Maximum Number : \"))\n",
        "myDict = {}\n",
        "\n",
        "for x in range(1, number + 1):\n",
        "    myDict[x] = x ** 2\n",
        "    \n",
        "print(\"\\nDictionary = \", myDict)\n"
      ],
      "execution_count": null,
      "outputs": [
        {
          "output_type": "stream",
          "text": [
            "\n",
            "Dictionary =  {1: 1, 2: 4, 3: 9, 4: 16, 5: 25, 6: 36, 7: 49, 8: 64, 9: 81, 10: 100}\n"
          ],
          "name": "stdout"
        }
      ]
    },
    {
      "cell_type": "code",
      "metadata": {
        "id": "gv49FGyKMzyW",
        "outputId": "4ade27d8-14e2-43cd-dd3d-4d440f911f50"
      },
      "source": [
        "# 12.Print nested dictionary\n",
        "family={\n",
        "  \"child1\" : {\n",
        "    \"name\" : \"harsh\",\n",
        "    \"year\" : 2004\n",
        "  },\n",
        "  \"child2\" : {\n",
        "    \"name\" : \"yash\",\n",
        "    \"year\" : 2007\n",
        "  },\n",
        "  \"child3\" : {\n",
        "    \"name\" : \"nikku\",\n",
        "    \"year\" : 2011\n",
        "  }\n",
        "}\n",
        "\n",
        "print(family)"
      ],
      "execution_count": null,
      "outputs": [
        {
          "output_type": "stream",
          "text": [
            "{'child1': {'name': 'harsh', 'year': 2004}, 'child2': {'name': 'yash', 'year': 2007}, 'child3': {'name': 'nikku', 'year': 2011}}\n"
          ],
          "name": "stdout"
        }
      ]
    },
    {
      "cell_type": "code",
      "metadata": {
        "id": "tz5UGIvGMzyW",
        "outputId": "7fcbab0c-25fc-4794-aa83-51e364793de3"
      },
      "source": [
        "# 13.Concatenate three dictionaries\n",
        "# Sample Dictionary :\n",
        "# dic1={1:10, 2:20}\n",
        "# dic2={3:30, 4:40}\n",
        "# dic3={5:50,6:60}# Expected Result : {1: 10, 2: 20, 3: 30, 4: 40, 5: 50, 6: 60}\n",
        "dic1={1:10, 2:20}\n",
        "dic2={3:30, 4:40}\n",
        "dic3={5:50,6:60}\n",
        "dic4 = {}\n",
        "for d in (dic1, dic2, dic3): dic4.update(d)\n",
        "print(dic4)\n"
      ],
      "execution_count": null,
      "outputs": [
        {
          "output_type": "stream",
          "text": [
            "{1: 10, 2: 20, 3: 30, 4: 40, 5: 50, 6: 60}\n"
          ],
          "name": "stdout"
        }
      ]
    },
    {
      "cell_type": "code",
      "metadata": {
        "id": "dlS1UHAVMzyX",
        "outputId": "9283ed2d-86f2-4478-aa7c-7675064439c7"
      },
      "source": [
        "# 14.Sum all the values of a dictionary\n",
        "def Sum(myDict):\n",
        "   sum_ = 0\n",
        "   for i in myDict:\n",
        "      sum_ = sum_ + myDict[i]\n",
        "   return sum_\n",
        "\n",
        "dict = {'T': 1, 'U':2, 'T':3, 'O':4, 'R':5}\n",
        "print(\"Sum of dictionary values :\", Sum(dict))\n"
      ],
      "execution_count": null,
      "outputs": [
        {
          "output_type": "stream",
          "text": [
            "Sum of dictionary values : 14\n"
          ],
          "name": "stdout"
        }
      ]
    },
    {
      "cell_type": "code",
      "metadata": {
        "id": "_jXfIMjrMzyX",
        "outputId": "c67b3d46-261b-4672-91ac-ad8296796359"
      },
      "source": [
        "# 15.Accessing an element of a nested dictionary\n",
        "family={\n",
        "  \"child1\" : {\n",
        "    \"name\" : \"harsh\",\n",
        "    \"year\" : 2004\n",
        "  },\n",
        "  \"child2\" : {\n",
        "    \"name\" : \"yash\",\n",
        "    \"year\" : 2007\n",
        "  },\n",
        "  \"child3\" : {\n",
        "    \"name\" : \"nikku\",\n",
        "    \"year\" : 2011\n",
        "  }\n",
        "}\n",
        "\n",
        "x=family[\"child3\"]\n",
        "print(x)"
      ],
      "execution_count": null,
      "outputs": [
        {
          "output_type": "stream",
          "text": [
            "{'name': 'nikku', 'year': 2011}\n"
          ],
          "name": "stdout"
        }
      ]
    },
    {
      "cell_type": "code",
      "metadata": {
        "id": "hhApCopyMzyX",
        "outputId": "1b284bda-8ec0-41de-b742-fd415ffe8cd6"
      },
      "source": [
        "# 16.Write a Python script to print a dictionary where the keys are numbers between 1 and 15 (both included) and the values are square of keys.\n",
        "# Sample Dictionary\n",
        "# {1: 1, 2: 4, 3: 9, 4: 16, 5: 25, 6: 36, 7: 49, 8: 64, 9: 81, 10: 100, 11: 121, 12: 144, 13: 169, 14: 196, 15: 225}\n",
        "number = int(input(\"Please enter the Maximum Number : \"))\n",
        "myDict = {}\n",
        "\n",
        "for x in range(1, number + 1):\n",
        "    myDict[x] = x ** 2\n",
        "    \n",
        "print(\"\\nDictionary = \", myDict)"
      ],
      "execution_count": null,
      "outputs": [
        {
          "output_type": "stream",
          "text": [
            "\n",
            "Dictionary =  {1: 1, 2: 4, 3: 9, 4: 16, 5: 25, 6: 36, 7: 49, 8: 64, 9: 81, 10: 100, 11: 121, 12: 144, 13: 169, 14: 196, 15: 225}\n"
          ],
          "name": "stdout"
        }
      ]
    },
    {
      "cell_type": "code",
      "metadata": {
        "id": "PQGJnAHMMzyX",
        "outputId": "ad4b6310-1a51-4a16-fd5f-c2fc70172fc3"
      },
      "source": [
        "# 17.Insert factorial of keys in values. And print dictionary\n",
        "\n",
        "number = int(input(\"Please enter the Maximum Number : \"))\n",
        "myDict = {}\n",
        "\n",
        "for x in range(1, number + 1):\n",
        "    myDict[x] = x ** 2\n",
        "    \n",
        "print(\"\\nDictionary = \", myDict)\n"
      ],
      "execution_count": null,
      "outputs": [
        {
          "output_type": "stream",
          "text": [
            "\n",
            "Dictionary =  {1: 1, 2: 4, 3: 9, 4: 16, 5: 25}\n"
          ],
          "name": "stdout"
        }
      ]
    },
    {
      "cell_type": "code",
      "metadata": {
        "id": "WDogu-xKMzyY"
      },
      "source": [
        ""
      ],
      "execution_count": null,
      "outputs": []
    }
  ]
}