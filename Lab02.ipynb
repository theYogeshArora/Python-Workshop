{
  "nbformat": 4,
  "nbformat_minor": 0,
  "metadata": {
    "kernelspec": {
      "display_name": "Python 3",
      "language": "python",
      "name": "python3"
    },
    "language_info": {
      "codemirror_mode": {
        "name": "ipython",
        "version": 3
      },
      "file_extension": ".py",
      "mimetype": "text/x-python",
      "name": "python",
      "nbconvert_exporter": "python",
      "pygments_lexer": "ipython3",
      "version": "3.8.5"
    },
    "colab": {
      "name": "Lab02.ipynb",
      "provenance": [],
      "include_colab_link": true
    }
  },
  "cells": [
    {
      "cell_type": "markdown",
      "metadata": {
        "id": "view-in-github",
        "colab_type": "text"
      },
      "source": [
        "<a href=\"https://colab.research.google.com/github/theYogeshArora/Python-Workshop/blob/main/Lab02.ipynb\" target=\"_parent\"><img src=\"https://colab.research.google.com/assets/colab-badge.svg\" alt=\"Open In Colab\"/></a>"
      ]
    },
    {
      "cell_type": "code",
      "metadata": {
        "colab": {
          "base_uri": "https://localhost:8080/"
        },
        "id": "Q34aV87kGfZc",
        "outputId": "68078bfc-6c9d-4740-922f-7508eb8306c9"
      },
      "source": [
        "# Q1. Check whether a number is even or odd\n",
        "is_even = int(input(\"Enter a number: \"))\n",
        "if is_even % 2 == 0:\n",
        "    print(\"{} is even\".format(is_even))\n",
        "else:\n",
        "    print(\"{} is odd\".format(is_even))"
      ],
      "execution_count": 1,
      "outputs": [
        {
          "output_type": "stream",
          "text": [
            "Enter a number: 5\n",
            "5 is odd\n"
          ],
          "name": "stdout"
        }
      ]
    },
    {
      "cell_type": "code",
      "metadata": {
        "id": "YKEVM8rrGfZi",
        "outputId": "b97b9bb2-7b70-4b4f-9cf8-cc494fa09c93"
      },
      "source": [
        "#Q2. Check whether an entered year is leap year or not.\n",
        "year = int(input(\"Enter the year: \"))\n",
        "if (year%4) == 0:\n",
        "    if (year%100) == 0:\n",
        "        if (year%400) == 0:\n",
        "            print(\"{} is a leap year\".format(year))\n",
        "        else:\n",
        "            print(\"{} is not a leap year\".format(year))\n",
        "    else:\n",
        "        print(\"{} is a leap year\".format(year))\n",
        "else:\n",
        "    print(\"{} is not a leap year\".format(year))"
      ],
      "execution_count": null,
      "outputs": [
        {
          "output_type": "stream",
          "text": [
            "2000 is a leap year\n"
          ],
          "name": "stdout"
        }
      ]
    },
    {
      "cell_type": "code",
      "metadata": {
        "id": "YpgS1uGHGfZj",
        "outputId": "7fdb0579-25ff-41ae-c685-212694c93d43"
      },
      "source": [
        "#Q3. Write a program to check whether a character is vowel or consonants.\n",
        "is_vowel = input(\"Enter a character: \")\n",
        "is_vowel = is_vowel.lower()\n",
        "if is_vowel == 'a' or is_vowel == 'e' or is_vowel == 'i' or is_vowel == 'o' or is_vowel == 'u':\n",
        "    print(\"{} is a vowel\".format(is_vowel))\n",
        "else:\n",
        "    print(\"{} is a consonent\".format(is_vowel))  "
      ],
      "execution_count": null,
      "outputs": [
        {
          "output_type": "stream",
          "text": [
            "i is a vowel\n"
          ],
          "name": "stdout"
        }
      ]
    },
    {
      "cell_type": "code",
      "metadata": {
        "id": "6WiqF2dAGfZk",
        "outputId": "7cf4aae6-fb21-4e95-b145-f9040e8d4789"
      },
      "source": [
        "#Q4. Write a program to find the smallest of two numbers.\n",
        "num1 = int(input(\"Enter 1st number: \"))\n",
        "num2 = int(input(\"Enter 2nd number: \"))\n",
        "\n",
        "#Ternary operator used\n",
        "min = num1 if num1 < num2 else num2\n",
        "print(\"{} is a smallest number\".format(min))"
      ],
      "execution_count": null,
      "outputs": [
        {
          "output_type": "stream",
          "text": [
            "10 is a smallest number\n"
          ],
          "name": "stdout"
        }
      ]
    },
    {
      "cell_type": "code",
      "metadata": {
        "id": "03AQ5L3dGfZk",
        "outputId": "9ceb3ac7-0574-4c3c-9e94-b98678d5bd90"
      },
      "source": [
        "#Q5. Find the Factorial of a Number\n",
        "ret_fac = int(input(\"Enter the number for factorial: \"))\n",
        "fac = 1\n",
        "for i in range (1, ret_fac + 1):\n",
        "    fac = fac * i\n",
        "print(\"Factorial of number {} is: {}\".format(ret_fac, fac))"
      ],
      "execution_count": null,
      "outputs": [
        {
          "output_type": "stream",
          "text": [
            "Factorial of number 5 is: 120\n"
          ],
          "name": "stdout"
        }
      ]
    },
    {
      "cell_type": "code",
      "metadata": {
        "id": "yRKlF1vlGfZl",
        "outputId": "1a7aaaaa-b135-4efe-ecfb-45d095b28a43"
      },
      "source": [
        "#Q6. Write a program to print this patterns\n",
        "#         *\n",
        "#      *     *\n",
        "#    *    *     *\n",
        "# *    *     *     *  \n",
        "\n",
        "def triangle(n): \n",
        "    k = 2*n - 2\n",
        "    for i in range(0, n): \n",
        "        for j in range(0, k): \n",
        "            print(end=\" \") \n",
        "    \n",
        "        k = k - 1\n",
        "    \n",
        "        for j in range(0, i+1): \n",
        "            print(\"* \", end=\"\") \n",
        "        print(\"\\r\") \n",
        "  \n",
        "n = 4\n",
        "triangle(n) "
      ],
      "execution_count": null,
      "outputs": [
        {
          "output_type": "stream",
          "text": [
            "      * \n",
            "     * * \n",
            "    * * * \n",
            "   * * * * \n"
          ],
          "name": "stdout"
        }
      ]
    },
    {
      "cell_type": "code",
      "metadata": {
        "id": "IZ60RJShGfZl",
        "outputId": "c8abde06-69c8-4470-e7e7-def2ece7d047"
      },
      "source": [
        "#Q7. Write a program to print this series: 1 1 2 3 5 8 13 \n",
        "a = 0\n",
        "b = 1\n",
        "print(a, b, end=' ')\n",
        "for i in range(a, 6):\n",
        "    s = a + b\n",
        "    print(s, end=' ')\n",
        "    a = b\n",
        "    b = s"
      ],
      "execution_count": null,
      "outputs": [
        {
          "output_type": "stream",
          "text": [
            "0 1 1 2 3 5 8 13 "
          ],
          "name": "stdout"
        }
      ]
    },
    {
      "cell_type": "code",
      "metadata": {
        "id": "hd3b_iVEGfZl",
        "outputId": "79fb1c0e-0a10-4060-b57b-b244b0fcc362"
      },
      "source": [
        "#Q8. Check whether a number is prime or not\n",
        "is_prime = int(input(\"Enter the number: \"))\n",
        "if is_prime > 1:\n",
        "    for i in range(2, is_prime):\n",
        "        if (is_prime % i) == 0:\n",
        "            print(\"{} is not a prime number\".format(is_prime))\n",
        "            break\n",
        "        else:\n",
        "            print(\"{} is a prime number\".format(is_prime))\n",
        "            break\n",
        "else:\n",
        "    print(\"{} is not a prime number\".format(is_prime))"
      ],
      "execution_count": null,
      "outputs": [
        {
          "output_type": "stream",
          "text": [
            "11 is a prime number\n"
          ],
          "name": "stdout"
        }
      ]
    },
    {
      "cell_type": "code",
      "metadata": {
        "colab": {
          "base_uri": "https://localhost:8080/"
        },
        "id": "xaYxYM4OGfZm",
        "outputId": "0ba1a0f6-ad25-4e53-96ec-c81a8ca6c4f9"
      },
      "source": [
        "#Q9. Make a Simple Calculator.\n",
        "def add(x, y):\n",
        "    return x + y\n",
        "def sub(x, y):\n",
        "    return x - y\n",
        "def mul(x, y):\n",
        "    return x * y\n",
        "def div(x, y):\n",
        "    return x / y\n",
        "def mod(x, y):\n",
        "    return x % y\n",
        "\n",
        "val1 = int(input(\"Enter 1st number: \"))\n",
        "val2 = int(input(\"Enter 2nd number: \"))\n",
        "print(\"----Simple calculator----\")\n",
        "print(\"1.Addition, 2.Subtraction, 3.Multiplication, 4.Division, 5.Remainder\")\n",
        "choice = int(input(\"Enter choice: \"))\n",
        "\n",
        "if(choice == 1):\n",
        "    print(\"Sum of {} and {} is: {}\".format(val1, val2, add(val1, val2)))\n",
        "elif(choice == 2):\n",
        "    print(\"Difference of {} and {} is: {}\".format(val1, val2, sub(val1, val2)))\n",
        "elif(choice == 3):\n",
        "    print(\"Product of {} and {} is: {}\".format(val1, val2, mul(val1, val2)))\n",
        "elif(choice == 4):\n",
        "    print(\"Quotient of {} and {} is: {}\".format(val1, val2, div(val1, val2)))\n",
        "elif(choice == 5):\n",
        "    print(\"Remainder of {} and {} is: {}\".format(val1, val2, mod(val1, val2)))"
      ],
      "execution_count": 2,
      "outputs": [
        {
          "output_type": "stream",
          "text": [
            "Enter 1st number: 5\n",
            "Enter 2nd number: 7\n",
            "----Simple calculator----\n",
            "1.Addition, 2.Subtraction, 3.Multiplication, 4.Division, 5.Remainder\n",
            "Enter choice: 3\n",
            "Product of 5 and 7 is: 35\n"
          ],
          "name": "stdout"
        }
      ]
    },
    {
      "cell_type": "code",
      "metadata": {
        "id": "ltBPQIn-GfZm"
      },
      "source": [
        ""
      ],
      "execution_count": null,
      "outputs": []
    }
  ]
}