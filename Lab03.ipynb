{
  "nbformat": 4,
  "nbformat_minor": 0,
  "metadata": {
    "language_info": {
      "codemirror_mode": {
        "name": "ipython",
        "version": 3
      },
      "file_extension": ".py",
      "mimetype": "text/x-python",
      "name": "python",
      "nbconvert_exporter": "python",
      "pygments_lexer": "ipython3",
      "version": "3.8.5-final"
    },
    "orig_nbformat": 2,
    "kernelspec": {
      "name": "python3",
      "display_name": "Python 3",
      "language": "python"
    },
    "colab": {
      "name": "Lab03.ipynb",
      "provenance": []
    }
  },
  "cells": [
    {
      "cell_type": "code",
      "metadata": {
        "id": "CPSaDRFfGr-d",
        "outputId": "6bfcb82b-6d12-4394-fb21-df0e8d4e07d4"
      },
      "source": [
        "# Q1. Write a Python program  to demonstrate while loop with else statement.\n",
        "counter = 0\n",
        "while counter < 3:\n",
        "    print(\"Inside while loop\")\n",
        "    counter += 1\n",
        "else:\n",
        "    print(\"Inside else\")"
      ],
      "execution_count": null,
      "outputs": [
        {
          "output_type": "stream",
          "text": [
            "Inside while loop\n",
            "Inside while loop\n",
            "Inside while loop\n",
            "Inside else\n"
          ],
          "name": "stdout"
        }
      ]
    },
    {
      "cell_type": "code",
      "metadata": {
        "id": "S_I_he2-Gr-m",
        "outputId": "79b0e312-7465-43d7-f91f-6be4661671ae"
      },
      "source": [
        "# Q2. Write a Python program to print 1st 5 even numbers (use break statement).\n",
        "num = 1\n",
        "flag = 0\n",
        "while num:\n",
        "    if num % 2 == 0:\n",
        "        print(num, end=' ')\n",
        "        flag+=1\n",
        "    elif flag == 5:\n",
        "        break\n",
        "    num += 1"
      ],
      "execution_count": null,
      "outputs": [
        {
          "output_type": "stream",
          "text": [
            "2 4 6 8 10 "
          ],
          "name": "stdout"
        }
      ]
    },
    {
      "cell_type": "code",
      "metadata": {
        "id": "IrDKgB1ZGr-n",
        "outputId": "5c434951-6473-4617-f2a8-f3fab5fbf76a"
      },
      "source": [
        "# Q3. Write a Python program to print 1st 4 even numbers (use continue statement).\n",
        "for i in range(1, 10):\n",
        "    if (i%2 == 0):\n",
        "        if(i < 10):\n",
        "            print(i, end=' ')\n",
        "    else:\n",
        "        continue"
      ],
      "execution_count": null,
      "outputs": [
        {
          "output_type": "stream",
          "text": [
            "2 4 6 8 "
          ],
          "name": "stdout"
        }
      ]
    },
    {
      "cell_type": "code",
      "metadata": {
        "id": "M4P0YQpsGr-n",
        "outputId": "6c8cb858-f1e2-4b30-ccb5-72e0a12b5c6e"
      },
      "source": [
        "# Q4. Write a Python program to demonstrate Pass statements.\n",
        "for num in [20, 11, 9, 66, 4, 89, 44]:\n",
        "    if num%2 == 0:\n",
        "        pass\n",
        "    else:\n",
        "        print(num, end=' ')"
      ],
      "execution_count": null,
      "outputs": [
        {
          "output_type": "stream",
          "text": [
            "11 9 89 "
          ],
          "name": "stdout"
        }
      ]
    },
    {
      "cell_type": "code",
      "metadata": {
        "id": "l-HE0HRpGr-o",
        "outputId": "bff1c464-0aeb-483c-b72c-6df40932f026"
      },
      "source": [
        "# Q5. Write a Python program to calculate the length of a string. \n",
        "string = input(\"Enter string: \")\n",
        "print(\"String: {}\".format(string))\n",
        "print(\"Length of string is: {}\".format(len(string)))"
      ],
      "execution_count": null,
      "outputs": [
        {
          "output_type": "stream",
          "text": [
            "String: This is question 5\n",
            "Length of string is: 18\n"
          ],
          "name": "stdout"
        }
      ]
    },
    {
      "cell_type": "code",
      "metadata": {
        "id": "Dmll_Dd3Gr-p",
        "outputId": "d163bd7a-395b-42f0-b595-67ce586bc705"
      },
      "source": [
        "# Q6. Write a Python program to count the number of characters (character frequency) in a string\n",
        "test_str = \"thought Though tough\"\n",
        "freq = {}\n",
        "\n",
        "for i in test_str:\n",
        "    if i in freq:\n",
        "        freq[i] += 1\n",
        "    elif i == \" \":\n",
        "        continue\n",
        "    else:\n",
        "        freq[i] = 1\n",
        "\n",
        "print(freq)"
      ],
      "execution_count": null,
      "outputs": [
        {
          "output_type": "stream",
          "text": [
            "{'t': 3, 'h': 5, 'o': 3, 'u': 3, 'g': 3, 'T': 1}\n"
          ],
          "name": "stdout"
        }
      ]
    },
    {
      "cell_type": "code",
      "metadata": {
        "id": "iZDNHKLDGr-p",
        "outputId": "43fbb156-7246-4c3c-e22e-4726c959138c"
      },
      "source": [
        "# Q7. Write a Python program to get a string made of the first 2 and the last 2 chars from a given a string. If the string length is less than 2, return instead of the empty string.\n",
        "test_str1 = \"this is test string\"\n",
        "\n",
        "if len(test_str1) < 3:\n",
        "    print(\" \")\n",
        "else:\n",
        "    new = test_str1[:2] + test_str1[-2:]\n",
        "    print(new)"
      ],
      "execution_count": null,
      "outputs": [
        {
          "output_type": "stream",
          "text": [
            "thng\n"
          ],
          "name": "stdout"
        }
      ]
    },
    {
      "cell_type": "code",
      "metadata": {
        "id": "G53D-l3iGr-q",
        "outputId": "2d1c1c23-3c23-4ad8-b9e5-de00910379d0"
      },
      "source": [
        "# Q8. Write a Python program to get a string from a given string where all occurrences of its first char have been changed to '$', except the first char itself\n",
        "old_string = \"cute child cuts cake cleverly\"\n",
        "x = old_string[0]\n",
        "new_string = old_string.replace(x, \"$\")\n",
        "print(new_string.replace(\"$\", x, 1))"
      ],
      "execution_count": null,
      "outputs": [
        {
          "output_type": "stream",
          "text": [
            "cute $hild $uts $ake $leverly\n"
          ],
          "name": "stdout"
        }
      ]
    },
    {
      "cell_type": "code",
      "metadata": {
        "id": "6vG_AzbfGr-q",
        "outputId": "cbaa3c93-f28a-4cfc-ff04-98479089b4b8"
      },
      "source": [
        "# Q9. Write a Python program to get a single string from two given strings, separated by a space and swap the first two characters of each string. \n",
        "str1 = input()\n",
        "str2 = input()\n",
        "a = str1[0]\n",
        "b = str2[0]\n",
        "new_str1 = b + str1[1:]\n",
        "new_str2 = a + str2[1:]\n",
        "print(\"Original string 1: \" + str1)\n",
        "print(\"Original string 2: \" + str2)\n",
        "print(\"New string: \" + new_str1 + \" \" + new_str2)"
      ],
      "execution_count": null,
      "outputs": [
        {
          "output_type": "stream",
          "text": [
            "Original string 1: hello\n",
            "Original string 2: everyone\n",
            "New string: eello hveryone\n"
          ],
          "name": "stdout"
        }
      ]
    },
    {
      "cell_type": "code",
      "metadata": {
        "id": "8mYlbd-5Gr-q",
        "outputId": "cf78df3b-5170-467c-ad58-1488d533dc8e"
      },
      "source": [
        "# Q10. Write a Python program to add 'ing' at the end of a given string (length should be at least 3). If the given string already ends with 'ing' then add 'ly' instead. If the string length of the given string is less than 3, leave it unchanged\n",
        "def string_update(string):\n",
        "    if len(string) < 3:\n",
        "        return string\n",
        "    elif string.endswith(\"ing\"):\n",
        "        return string.replace(\"ing\", \"ly\")\n",
        "\n",
        "string = input()\n",
        "print(\"Old string: {} \\nNew string: {}\".format(string, string_update(string)))\n"
      ],
      "execution_count": null,
      "outputs": [
        {
          "output_type": "stream",
          "text": [
            "Old string: i am going for teaching \n",
            "New string: i am goly for teachly\n"
          ],
          "name": "stdout"
        }
      ]
    },
    {
      "cell_type": "code",
      "metadata": {
        "id": "fbwEYZ9MGr-q"
      },
      "source": [
        ""
      ],
      "execution_count": null,
      "outputs": []
    }
  ]
}