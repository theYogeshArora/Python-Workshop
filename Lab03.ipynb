{
  "nbformat": 4,
  "nbformat_minor": 0,
  "metadata": {
    "language_info": {
      "codemirror_mode": {
        "name": "ipython",
        "version": 3
      },
      "file_extension": ".py",
      "mimetype": "text/x-python",
      "name": "python",
      "nbconvert_exporter": "python",
      "pygments_lexer": "ipython3",
      "version": "3.8.5-final"
    },
    "orig_nbformat": 2,
    "kernelspec": {
      "name": "python3",
      "display_name": "Python 3",
      "language": "python"
    },
    "colab": {
      "name": "Lab03.ipynb",
      "provenance": [],
      "include_colab_link": true
    }
  },
  "cells": [
    {
      "cell_type": "markdown",
      "metadata": {
        "id": "view-in-github",
        "colab_type": "text"
      },
      "source": [
        "<a href=\"https://colab.research.google.com/github/theYogeshArora/Python-Workshop/blob/main/Lab03.ipynb\" target=\"_parent\"><img src=\"https://colab.research.google.com/assets/colab-badge.svg\" alt=\"Open In Colab\"/></a>"
      ]
    },
    {
      "cell_type": "code",
      "metadata": {
        "id": "CPSaDRFfGr-d",
        "colab": {
          "base_uri": "https://localhost:8080/"
        },
        "outputId": "e7f07c24-c0c8-4c52-ab6f-48c86210d8fc"
      },
      "source": [
        "# Q1. Write a Python program  to demonstrate while loop with else statement.\n",
        "counter = 0\n",
        "while counter < 3:\n",
        "    print(\"Inside while loop\")\n",
        "    counter += 1\n",
        "else:\n",
        "    print(\"Inside else\")"
      ],
      "execution_count": 1,
      "outputs": [
        {
          "output_type": "stream",
          "text": [
            "Inside while loop\n",
            "Inside while loop\n",
            "Inside while loop\n",
            "Inside else\n"
          ],
          "name": "stdout"
        }
      ]
    },
    {
      "cell_type": "code",
      "metadata": {
        "id": "S_I_he2-Gr-m",
        "outputId": "79b0e312-7465-43d7-f91f-6be4661671ae"
      },
      "source": [
        "# Q2. Write a Python program to print 1st 5 even numbers (use break statement).\n",
        "num = 1\n",
        "flag = 0\n",
        "while num:\n",
        "    if num % 2 == 0:\n",
        "        print(num, end=' ')\n",
        "        flag+=1\n",
        "    elif flag == 5:\n",
        "        break\n",
        "    num += 1"
      ],
      "execution_count": null,
      "outputs": [
        {
          "output_type": "stream",
          "text": [
            "2 4 6 8 10 "
          ],
          "name": "stdout"
        }
      ]
    },
    {
      "cell_type": "code",
      "metadata": {
        "id": "IrDKgB1ZGr-n",
        "outputId": "5c434951-6473-4617-f2a8-f3fab5fbf76a"
      },
      "source": [
        "# Q3. Write a Python program to print 1st 4 even numbers (use continue statement).\n",
        "for i in range(1, 10):\n",
        "    if (i%2 == 0):\n",
        "        if(i < 10):\n",
        "            print(i, end=' ')\n",
        "    else:\n",
        "        continue"
      ],
      "execution_count": null,
      "outputs": [
        {
          "output_type": "stream",
          "text": [
            "2 4 6 8 "
          ],
          "name": "stdout"
        }
      ]
    },
    {
      "cell_type": "code",
      "metadata": {
        "id": "M4P0YQpsGr-n",
        "colab": {
          "base_uri": "https://localhost:8080/"
        },
        "outputId": "9a9e416f-29ff-4a84-d06e-a10b00dd4282"
      },
      "source": [
        "# Q4. Write a Python program to demonstrate Pass statements.\n",
        "for num in [20, 11, 9, 66, 4, 89, 44]:\n",
        "    if num%2 == 0:\n",
        "        pass\n",
        "    else:\n",
        "        print(num, end=' ')"
      ],
      "execution_count": 2,
      "outputs": [
        {
          "output_type": "stream",
          "text": [
            "11 9 89 "
          ],
          "name": "stdout"
        }
      ]
    },
    {
      "cell_type": "code",
      "metadata": {
        "id": "l-HE0HRpGr-o",
        "colab": {
          "base_uri": "https://localhost:8080/"
        },
        "outputId": "1dc3552a-51f7-4ad4-e734-f8f125b5268d"
      },
      "source": [
        "# Q5. Write a Python program to calculate the length of a string. \n",
        "string = input(\"Enter string: \")\n",
        "print(\"String: {}\".format(string))\n",
        "print(\"Length of string is: {}\".format(len(string)))"
      ],
      "execution_count": 3,
      "outputs": [
        {
          "output_type": "stream",
          "text": [
            "Enter string: This is Yogesh Arora\n",
            "String: This is Yogesh Arora\n",
            "Length of string is: 20\n"
          ],
          "name": "stdout"
        }
      ]
    },
    {
      "cell_type": "code",
      "metadata": {
        "id": "Dmll_Dd3Gr-p",
        "colab": {
          "base_uri": "https://localhost:8080/"
        },
        "outputId": "76d0ea7e-4e49-4720-d5e4-5df7f852883e"
      },
      "source": [
        "# Q6. Write a Python program to count the number of characters (character frequency) in a string\n",
        "test_str = \"thought Though tough Yogesh Arora\"\n",
        "freq = {}\n",
        "\n",
        "for i in test_str:\n",
        "    if i in freq:\n",
        "        freq[i] += 1\n",
        "    elif i == \" \":\n",
        "        continue\n",
        "    else:\n",
        "        freq[i] = 1\n",
        "\n",
        "print(freq)"
      ],
      "execution_count": 4,
      "outputs": [
        {
          "output_type": "stream",
          "text": [
            "{'t': 3, 'h': 6, 'o': 5, 'u': 3, 'g': 4, 'T': 1, 'Y': 1, 'e': 1, 's': 1, 'A': 1, 'r': 2, 'a': 1}\n"
          ],
          "name": "stdout"
        }
      ]
    },
    {
      "cell_type": "code",
      "metadata": {
        "id": "iZDNHKLDGr-p",
        "colab": {
          "base_uri": "https://localhost:8080/"
        },
        "outputId": "a11147a1-a283-4821-83fd-1abfe6031302"
      },
      "source": [
        "# Q7. Write a Python program to get a string made of the first 2 and the last 2 chars from a given a string. If the string length is less than 2, return instead of the empty string.\n",
        "\n",
        "test_str1 = \"this is test string by Yogesh Arora\"\n",
        "\n",
        "if len(test_str1) < 3:\n",
        "    print(\" \")\n",
        "else:\n",
        "    new = test_str1[:2] + test_str1[-2:]\n",
        "    print(new)"
      ],
      "execution_count": 5,
      "outputs": [
        {
          "output_type": "stream",
          "text": [
            "thra\n"
          ],
          "name": "stdout"
        }
      ]
    },
    {
      "cell_type": "code",
      "metadata": {
        "id": "G53D-l3iGr-q",
        "colab": {
          "base_uri": "https://localhost:8080/"
        },
        "outputId": "b2513c52-c19e-4eeb-e4ce-c4fb01f38573"
      },
      "source": [
        "# Q8. Write a Python program to get a string from a given string where all occurrences of its first char have been changed to '$', except the first char itself\n",
        "old_string = \"cute child cuts cake cleverly \"\n",
        "x = old_string[0]\n",
        "new_string = old_string.replace(x, \"$\")\n",
        "print(new_string.replace(\"$\", x, 1))"
      ],
      "execution_count": 9,
      "outputs": [
        {
          "output_type": "stream",
          "text": [
            "cute $hild $uts $ake $leverly \n"
          ],
          "name": "stdout"
        }
      ]
    },
    {
      "cell_type": "code",
      "metadata": {
        "id": "6vG_AzbfGr-q",
        "colab": {
          "base_uri": "https://localhost:8080/"
        },
        "outputId": "6ba11531-0547-4e3c-ad9c-b341221b4cbb"
      },
      "source": [
        "# Q9. Write a Python program to get a single string from two given strings, separated by a space and swap the first two characters of each string. \n",
        "str1 = input()\n",
        "str2 = input()\n",
        "a = str1[0]\n",
        "b = str2[0]\n",
        "new_str1 = b + str1[1:]\n",
        "new_str2 = a + str2[1:]\n",
        "print(\"Original string 1: \" + str1)\n",
        "print(\"Original string 2: \" + str2)\n",
        "print(\"New string: \" + new_str1 + \" \" + new_str2)"
      ],
      "execution_count": 10,
      "outputs": [
        {
          "output_type": "stream",
          "text": [
            "Yogesh\n",
            "Arora\n",
            "Original string 1: Yogesh\n",
            "Original string 2: Arora\n",
            "New string: Aogesh Yrora\n"
          ],
          "name": "stdout"
        }
      ]
    },
    {
      "cell_type": "code",
      "metadata": {
        "id": "8mYlbd-5Gr-q",
        "colab": {
          "base_uri": "https://localhost:8080/"
        },
        "outputId": "7791be33-9b7f-4e5a-c0fb-c587307b29a5"
      },
      "source": [
        "# Q10. Write a Python program to add 'ing' at the end of a given string (length should be at least 3). If the given string already ends with 'ing' then add 'ly' instead. If the string length of the given string is less than 3, leave it unchanged\n",
        "def string_update(string):\n",
        "    if len(string) < 3:\n",
        "        return string\n",
        "    elif string.endswith(\"ing\"):\n",
        "        return string.replace(\"ing\", \"ly\")\n",
        "\n",
        "string = input()\n",
        "print(\"Old string: {} \\nNew string: {}\".format(string, string_update(string)))\n"
      ],
      "execution_count": 13,
      "outputs": [
        {
          "output_type": "stream",
          "text": [
            "Yogesh is studying\n",
            "Old string: Yogesh is studying \n",
            "New string: Yogesh is studyly\n"
          ],
          "name": "stdout"
        }
      ]
    },
    {
      "cell_type": "code",
      "metadata": {
        "id": "fbwEYZ9MGr-q"
      },
      "source": [
        ""
      ],
      "execution_count": null,
      "outputs": []
    }
  ]
}