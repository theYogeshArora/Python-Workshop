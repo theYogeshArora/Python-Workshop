{
  "nbformat": 4,
  "nbformat_minor": 0,
  "metadata": {
    "kernelspec": {
      "display_name": "Python 3",
      "language": "python",
      "name": "python3"
    },
    "language_info": {
      "codemirror_mode": {
        "name": "ipython",
        "version": 3
      },
      "file_extension": ".py",
      "mimetype": "text/x-python",
      "name": "python",
      "nbconvert_exporter": "python",
      "pygments_lexer": "ipython3",
      "version": "3.7.7"
    },
    "colab": {
      "name": "Lab 5 tuple.ipynb",
      "provenance": [],
      "include_colab_link": true
    }
  },
  "cells": [
    {
      "cell_type": "markdown",
      "metadata": {
        "id": "view-in-github",
        "colab_type": "text"
      },
      "source": [
        "<a href=\"https://colab.research.google.com/github/theYogeshArora/Python-Workshop/blob/main/Lab05tuple.ipynb\" target=\"_parent\"><img src=\"https://colab.research.google.com/assets/colab-badge.svg\" alt=\"Open In Colab\"/></a>"
      ]
    },
    {
      "cell_type": "markdown",
      "metadata": {
        "id": "xAHU_beZFjHE"
      },
      "source": [
        "### Lab 4: Operation on Tuples and List: hands-on practice"
      ]
    },
    {
      "cell_type": "code",
      "metadata": {
        "scrolled": true,
        "id": "00xl0R9xFjHM",
        "colab": {
          "base_uri": "https://localhost:8080/"
        },
        "outputId": "9408b58b-a6f5-41e5-f2d1-453e80d190b5"
      },
      "source": [
        "#Q1. Write a Python program to create a tuple\n",
        "tup=(\"arora\",\"bright\",\"yogesh\")\n",
        "print(tup)"
      ],
      "execution_count": 3,
      "outputs": [
        {
          "output_type": "stream",
          "text": [
            "('arora', 'bright', 'yogesh')\n"
          ],
          "name": "stdout"
        }
      ]
    },
    {
      "cell_type": "code",
      "metadata": {
        "scrolled": true,
        "id": "u2_zvN-cFjHO",
        "colab": {
          "base_uri": "https://localhost:8080/"
        },
        "outputId": "1f6f4431-abfc-4936-9e9c-615acb01dfc7"
      },
      "source": [
        "#Q2 Write a Python program to create a tuple with different data types.  \n",
        "tup=(1,2,\"yogesh\",True)\n",
        "tup"
      ],
      "execution_count": 4,
      "outputs": [
        {
          "output_type": "execute_result",
          "data": {
            "text/plain": [
              "(1, 2, 'yogesh', True)"
            ]
          },
          "metadata": {
            "tags": []
          },
          "execution_count": 4
        }
      ]
    },
    {
      "cell_type": "code",
      "metadata": {
        "scrolled": true,
        "id": "CNwRlx8UFjHO",
        "colab": {
          "base_uri": "https://localhost:8080/"
        },
        "outputId": "d543d239-286f-411b-802c-dafc4cb20ac3"
      },
      "source": [
        "#Q3:Write a Python program to create a tuple with numbers and print one item.  \n",
        "tup=(0,1,2)\n",
        "print(tup[1])"
      ],
      "execution_count": 5,
      "outputs": [
        {
          "output_type": "stream",
          "text": [
            "1\n"
          ],
          "name": "stdout"
        }
      ]
    },
    {
      "cell_type": "code",
      "metadata": {
        "scrolled": true,
        "id": "rRDoJ8P5FjHO",
        "colab": {
          "base_uri": "https://localhost:8080/"
        },
        "outputId": "e287ab5b-a623-466a-fb3d-1e72cbab3657"
      },
      "source": [
        "#Q4:Write a Python program to unpack a tuple in several variables.  \n",
        "var1=tup[0]\n",
        "var2=tup[1]\n",
        "var3=tup[2]\n",
        "print(var1,\"\",var2,\"\",var3)"
      ],
      "execution_count": 7,
      "outputs": [
        {
          "output_type": "stream",
          "text": [
            "0  1  2\n"
          ],
          "name": "stdout"
        }
      ]
    },
    {
      "cell_type": "code",
      "metadata": {
        "scrolled": true,
        "id": "v6eBqVF3FjHP",
        "colab": {
          "base_uri": "https://localhost:8080/"
        },
        "outputId": "bb5dc485-a8c2-495e-ccda-662495b41309"
      },
      "source": [
        "#Q4: OR\n",
        "var1,var2,var3=tup\n",
        "print(var1,\"\",var2,\"\",var3)"
      ],
      "execution_count": 9,
      "outputs": [
        {
          "output_type": "stream",
          "text": [
            "0  1  2\n"
          ],
          "name": "stdout"
        }
      ]
    },
    {
      "cell_type": "code",
      "metadata": {
        "scrolled": true,
        "id": "QgbJK1hwFjHP",
        "colab": {
          "base_uri": "https://localhost:8080/"
        },
        "outputId": "9e69e5ea-05fc-420e-de68-2b02d7dd4255"
      },
      "source": [
        "#Q5: Write a Python program to add an item in a tuple.  \n",
        "tup1=tup+(9,)\n",
        "print (tup1)\n",
        "\n",
        "#you can add item using slicing as well\n",
        "tup2=tup[0:5]+(1,2)\n",
        "print (tup2)\n",
        "\n",
        "# or you can change tuple to list and then to a tuple again\n",
        "list1=list(tup)\n",
        "list1.append(50)\n",
        "tup3=tuple(list1)\n",
        "print (tup3)"
      ],
      "execution_count": 10,
      "outputs": [
        {
          "output_type": "stream",
          "text": [
            "(0, 1, 2, 9)\n",
            "(0, 1, 2, 1, 2)\n",
            "(0, 1, 2, 50)\n"
          ],
          "name": "stdout"
        }
      ]
    },
    {
      "cell_type": "code",
      "metadata": {
        "scrolled": true,
        "id": "pVQP8VBqFjHP",
        "colab": {
          "base_uri": "https://localhost:8080/",
          "height": 35
        },
        "outputId": "520c9408-4dfe-453f-b741-10508dab6917"
      },
      "source": [
        "#Q6:Write a Python program to convert a tuple to a string.  \n",
        "\n",
        "tup1=(\"Y\",\"o\",\"g\",\"e\",\"s\",\"h\",\" \",\"A\",\"r\",\"o\",\"r\",\"a\")\n",
        "str=''.join(tup1)\n",
        "str"
      ],
      "execution_count": 18,
      "outputs": [
        {
          "output_type": "execute_result",
          "data": {
            "application/vnd.google.colaboratory.intrinsic+json": {
              "type": "string"
            },
            "text/plain": [
              "'Yogesh Arora'"
            ]
          },
          "metadata": {
            "tags": []
          },
          "execution_count": 18
        }
      ]
    },
    {
      "cell_type": "code",
      "metadata": {
        "scrolled": true,
        "id": "XZUXFXX_FjHQ",
        "colab": {
          "base_uri": "https://localhost:8080/"
        },
        "outputId": "641bc1ba-fe99-4cd5-f60e-5cce64f0cb74"
      },
      "source": [
        "#Q7:Write a Python program to get the 4th element and 4th element from last of a tuple\n",
        "tup1=(1,2,3,4,5,6,7,8,9,10)\n",
        "print(tup1[3])\n",
        "print(tup1[-4])"
      ],
      "execution_count": 19,
      "outputs": [
        {
          "output_type": "stream",
          "text": [
            "4\n",
            "7\n"
          ],
          "name": "stdout"
        }
      ]
    },
    {
      "cell_type": "code",
      "metadata": {
        "scrolled": true,
        "id": "BB1WIFYQFjHQ",
        "colab": {
          "base_uri": "https://localhost:8080/"
        },
        "outputId": "fc0b2d9a-5e43-4f89-f115-aaca6aa219be"
      },
      "source": [
        "#8. Write a Python program to find the repeated items of a tuple.  \n",
        "tup1=(1,1,3,4,5,1,7,8,9,10,1)\n",
        "count=tup1.count(1)\n",
        "print(count)"
      ],
      "execution_count": 21,
      "outputs": [
        {
          "output_type": "stream",
          "text": [
            "4\n"
          ],
          "name": "stdout"
        }
      ]
    },
    {
      "cell_type": "code",
      "metadata": {
        "scrolled": true,
        "id": "Bl_VfoWDFjHQ",
        "colab": {
          "base_uri": "https://localhost:8080/"
        },
        "outputId": "f616f289-5806-4871-812d-4d588418cdfd"
      },
      "source": [
        "#9. Write a Python program to check whether an element exists within a tuple.  \n",
        "if 4 in tup1:\n",
        "    print(\"true\")\n",
        "else :\n",
        "    print(\"false\")"
      ],
      "execution_count": 22,
      "outputs": [
        {
          "output_type": "stream",
          "text": [
            "true\n"
          ],
          "name": "stdout"
        }
      ]
    },
    {
      "cell_type": "code",
      "metadata": {
        "scrolled": true,
        "id": "3YSUYCJfFjHR",
        "colab": {
          "base_uri": "https://localhost:8080/"
        },
        "outputId": "01605833-cfc1-402c-a525-bd777ea926e9"
      },
      "source": [
        "#10. Write a Python program to convert a list to a tuple.  \n",
        "list1=[1,2,3,4]\n",
        "tuple1=tuple(list1)\n",
        "print(tuple1)"
      ],
      "execution_count": 24,
      "outputs": [
        {
          "output_type": "stream",
          "text": [
            "(1, 2, 3, 4)\n"
          ],
          "name": "stdout"
        }
      ]
    },
    {
      "cell_type": "code",
      "metadata": {
        "scrolled": true,
        "id": "-OmM7mv1FjHR",
        "colab": {
          "base_uri": "https://localhost:8080/"
        },
        "outputId": "004415bf-a77b-4984-f95a-25ea758362e0"
      },
      "source": [
        "#11. Write a Python program to remove an item from a tuple\n",
        "tuple1=(1,2,3,4)\n",
        "list1=list(tuple1)\n",
        "list1.remove(4)\n",
        "tup1=tuple(list1)\n",
        "print(tup1)"
      ],
      "execution_count": 26,
      "outputs": [
        {
          "output_type": "stream",
          "text": [
            "(1, 2, 3)\n"
          ],
          "name": "stdout"
        }
      ]
    },
    {
      "cell_type": "code",
      "metadata": {
        "scrolled": true,
        "id": "Pj-ksKlVFjHR",
        "colab": {
          "base_uri": "https://localhost:8080/"
        },
        "outputId": "0c5d0bd2-affe-4f25-9b31-79e0547d569d"
      },
      "source": [
        "#12. Write a Python program to slice a tuple \n",
        "#You can use slicing to remove an item from tuple\n",
        "#You can either use slicing or convert it to a list\n",
        "# removing 3 from tuple1\n",
        "tuple1=(1,2,3,4)\n",
        "new_tup=tuple1[0:2]+tuple1[3:]\n",
        "print(new_tup)"
      ],
      "execution_count": 27,
      "outputs": [
        {
          "output_type": "stream",
          "text": [
            "(1, 2, 4)\n"
          ],
          "name": "stdout"
        }
      ]
    },
    {
      "cell_type": "code",
      "metadata": {
        "scrolled": true,
        "id": "bzlGuud4FjHS",
        "colab": {
          "base_uri": "https://localhost:8080/"
        },
        "outputId": "96c926e5-cf4b-4aab-944c-476d80f22ba8"
      },
      "source": [
        "#13. Write a Python program to find the index of an item of a tuple.  \n",
        "tup1=(1,2,3,4,5,60)\n",
        "print(tup1.index(5))"
      ],
      "execution_count": 28,
      "outputs": [
        {
          "output_type": "stream",
          "text": [
            "4\n"
          ],
          "name": "stdout"
        }
      ]
    },
    {
      "cell_type": "code",
      "metadata": {
        "scrolled": true,
        "id": "gcc312OfFjHS",
        "colab": {
          "base_uri": "https://localhost:8080/"
        },
        "outputId": "b0d6701d-e412-45ba-9f78-d0f194773e65"
      },
      "source": [
        "#14. Write a Python program to find the length of a tuple.  \n",
        "tup1=(00,10,20,30,40,50,60,70)\n",
        "print(len(tup1))"
      ],
      "execution_count": 30,
      "outputs": [
        {
          "output_type": "stream",
          "text": [
            "8\n"
          ],
          "name": "stdout"
        }
      ]
    },
    {
      "cell_type": "code",
      "metadata": {
        "scrolled": true,
        "id": "kfTizXq8FjHT",
        "colab": {
          "base_uri": "https://localhost:8080/"
        },
        "outputId": "09060a8b-b67f-4d3b-d574-2393084a946a"
      },
      "source": [
        "#15. Write a Python program to reverse a tuple. \n",
        "tup1=(00,10,20,30,40,50,60,70,80,100)\n",
        "tup2=reversed(tup1)\n",
        "print(tuple(tup2))"
      ],
      "execution_count": 31,
      "outputs": [
        {
          "output_type": "stream",
          "text": [
            "(100, 80, 70, 60, 50, 40, 30, 20, 10, 0)\n"
          ],
          "name": "stdout"
        }
      ]
    }
  ]
}