{
  "nbformat": 4,
  "nbformat_minor": 0,
  "metadata": {
    "colab": {
      "name": "PT1.ipynb",
      "provenance": [],
      "authorship_tag": "ABX9TyN5L58Etd1XRQg2h0AQjUFm",
      "include_colab_link": true
    },
    "kernelspec": {
      "name": "python3",
      "display_name": "Python 3"
    }
  },
  "cells": [
    {
      "cell_type": "markdown",
      "metadata": {
        "id": "view-in-github",
        "colab_type": "text"
      },
      "source": [
        "<a href=\"https://colab.research.google.com/github/theYogeshArora/Python-Workshop/blob/main/PT1.ipynb\" target=\"_parent\"><img src=\"https://colab.research.google.com/assets/colab-badge.svg\" alt=\"Open In Colab\"/></a>"
      ]
    },
    {
      "cell_type": "code",
      "metadata": {
        "colab": {
          "base_uri": "https://localhost:8080/"
        },
        "id": "eGHzYeRhIvpf",
        "outputId": "43a0c58d-8f15-4d73-d854-b816ce1ba263"
      },
      "source": [
        "#Q1 Please write a program which accepts a string from console and print the characters that have even indexes.\r\n",
        "\r\n",
        "#asuming index values are 0,1,2...  so on and so forth\r\n",
        "print(\"Please enter text to print::\")\r\n",
        "inputchars = input()\r\n",
        "\r\n",
        "if inputchars:\r\n",
        "\tstring = \"\"\r\n",
        "\tfor i in inputchars:\r\n",
        "\t\tif inputchars.index(i)%2 == 0:\r\n",
        "\t\t\tstring += str(i)\r\n",
        "\t\r\n",
        "\tprint('-------------------')\r\n",
        "\tprint(\"You Entered:\", inputchars)\r\n",
        "\tprint(\"Result:\")\r\n",
        "\tprint(string)"
      ],
      "execution_count": 7,
      "outputs": [
        {
          "output_type": "stream",
          "text": [
            "Please enter text to print::\n",
            "Yogesh Arora\n",
            "-------------------\n",
            "You Entered: Yogesh Arora\n",
            "Result:\n",
            "Ygs rr\n"
          ],
          "name": "stdout"
        }
      ]
    },
    {
      "cell_type": "code",
      "metadata": {
        "colab": {
          "base_uri": "https://localhost:8080/"
        },
        "id": "xpiLSweoIzAc",
        "outputId": "3d6ee876-b152-4bd6-f01a-7fcd49f0d061"
      },
      "source": [
        "#Q2 WAP to iterate the given list and display numbers which are divisible by 5 and if you find number greater than 150 stop the loop iteration\r\n",
        "#         list1 = [12, 15, 32, 42, 55, 75, 122, 132, 150, 180,200]\r\n",
        "#         Expected output:\r\n",
        "#         15\r\n",
        "#         55\r\n",
        "#         75\r\n",
        "#         150\r\n",
        "\r\n",
        "\r\n",
        "list1 = [12,15, 32, 42, 55, 75, 122, 132, 150, 180, 200]\r\n",
        "for item in list1:\r\n",
        "    if (item > 150):\r\n",
        "        break\r\n",
        "    if(item % 5 == 0):\r\n",
        "        print(item)\r\n"
      ],
      "execution_count": 4,
      "outputs": [
        {
          "output_type": "stream",
          "text": [
            "15\n",
            "55\n",
            "75\n",
            "150\n"
          ],
          "name": "stdout"
        }
      ]
    },
    {
      "cell_type": "code",
      "metadata": {
        "colab": {
          "base_uri": "https://localhost:8080/"
        },
        "id": "rs0YvoynJeev",
        "outputId": "873d287a-fbd0-4cc6-9f3b-b909abdf4ff0"
      },
      "source": [
        "#Q3 WAP in Python to Concatenate two lists in the following order\r\n",
        "#      list1 = [\"Hello \", \"take \"]\r\n",
        "#      list2 = [\"Dear\", \"Sir\"]\r\n",
        "#       Expected output\r\n",
        "#       ['Hello Dear', 'Hello Sir', 'take Dear', 'take Sir']\r\n",
        "\r\n",
        "list1 = [\"Hello \", \"take \"]\r\n",
        "list2 = [\"Dear\", \"Sir\"]\r\n",
        "\r\n",
        "ConcatList = [x+y for x in list1 for y in list2]\r\n",
        "print(ConcatList)\r\n"
      ],
      "execution_count": 3,
      "outputs": [
        {
          "output_type": "stream",
          "text": [
            "['Hello Dear', 'Hello Sir', 'take Dear', 'take Sir']\n"
          ],
          "name": "stdout"
        }
      ]
    },
    {
      "cell_type": "code",
      "metadata": {
        "colab": {
          "base_uri": "https://localhost:8080/"
        },
        "id": "JrGZHzGJJepF",
        "outputId": "e5ef41f2-f668-438d-e19d-a1b9631bda83"
      },
      "source": [
        "#Q4 WAP in python to show unpacking the values of tuples.\r\n",
        "\r\n",
        "tup=(\"Yogesh\",\"Arora\",\"2K19CSUN01120\")\r\n",
        "print(tup)\r\n",
        "\r\n",
        "var1=tup[0]\r\n",
        "var2=tup[1]\r\n",
        "var3=tup[2]\r\n",
        "print(var1,\"\",var2,\"\",var3)\r\n",
        "\r\n",
        "\r\n",
        "# OR\r\n",
        "\r\n",
        "\r\n",
        "var1,var2,var3=tup\r\n",
        "print(var1,\"\",var2,\"\",var3)"
      ],
      "execution_count": 2,
      "outputs": [
        {
          "output_type": "stream",
          "text": [
            "('Yogesh', 'Arora', '2K19CSUN01120')\n",
            "Yogesh  Arora  2K19CSUN01120\n",
            "Yogesh  Arora  2K19CSUN01120\n"
          ],
          "name": "stdout"
        }
      ]
    }
  ]
}