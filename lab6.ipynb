{
  "nbformat": 4,
  "nbformat_minor": 0,
  "metadata": {
    "language_info": {
      "codemirror_mode": {
        "name": "ipython",
        "version": 3
      },
      "file_extension": ".py",
      "mimetype": "text/x-python",
      "name": "python",
      "nbconvert_exporter": "python",
      "pygments_lexer": "ipython3",
      "version": "3.8.5-final"
    },
    "orig_nbformat": 2,
    "kernelspec": {
      "name": "python3",
      "display_name": "Python 3",
      "language": "python"
    },
    "colab": {
      "name": "lab6.ipynb",
      "provenance": [],
      "include_colab_link": true
    }
  },
  "cells": [
    {
      "cell_type": "markdown",
      "metadata": {
        "id": "view-in-github",
        "colab_type": "text"
      },
      "source": [
        "<a href=\"https://colab.research.google.com/github/theYogeshArora/Python-Workshop/blob/main/lab6.ipynb\" target=\"_parent\"><img src=\"https://colab.research.google.com/assets/colab-badge.svg\" alt=\"Open In Colab\"/></a>"
      ]
    },
    {
      "cell_type": "code",
      "metadata": {
        "id": "LYJE_TsMMYP0"
      },
      "source": [
        "\n",
        "\n",
        "#                           \tMANAV RACHNA UNIVERSITY, FARIDABAD\n",
        "#                         Department of Computer Science  and Technology\n",
        "\n",
        "# Course: B.Tech(CSE)    \t\t\t                                                       Semester:IV                                                                                                                                 Subject:  Programming for Problem Solving using Python(CSW208B)                  Session: 2020-21\n",
        "#                           Lab 6: Operation on Sets : hands-on practice\n",
        "\n",
        "# Learning Outcome CO1:  Student will be able to implement concepts of  Sets in Python\n",
        "# Blooms Taxonomy Level: BT1, BT2, BT3\n",
        "# Sets\n",
        "# submitted by Yogesh Arora\n",
        "\n"
      ],
      "execution_count": null,
      "outputs": []
    },
    {
      "cell_type": "code",
      "metadata": {
        "id": "IXCma4oxMYP4",
        "outputId": "72bf1665-c2b7-46bf-f23f-f4221b12239c"
      },
      "source": [
        "# Consider the sets: set1 = {10, 20, 30, 40, 50}\n",
        "# set2 = {30, 40, 50, 60, 70}\n",
        "\n",
        "#     1. Write a program to create two sets Set1 and Set2 as above.\n",
        "\n",
        "set1 = {10, 20, 30, 40, 50}\n",
        "set2 = {30, 40, 50, 60, 70}\n",
        "print(set1)\n",
        "print(set2)"
      ],
      "execution_count": null,
      "outputs": [
        {
          "output_type": "stream",
          "text": [
            "{40, 10, 50, 20, 30}\n",
            "{70, 40, 50, 60, 30}\n"
          ],
          "name": "stdout"
        }
      ]
    },
    {
      "cell_type": "code",
      "metadata": {
        "id": "SphSVE5aMYP5",
        "outputId": "941f6952-4e8f-4035-cf26-3b438cdc462d"
      },
      "source": [
        "#     2. Write a program to add an element 80 to set2.\n",
        "seT = {10, 20, 30, 40, 50}\n",
        "seT.add(80)\n",
        "print(seT)\n"
      ],
      "execution_count": null,
      "outputs": [
        {
          "output_type": "stream",
          "text": [
            "{40, 10, 80, 50, 20, 30}\n"
          ],
          "name": "stdout"
        }
      ]
    },
    {
      "cell_type": "code",
      "metadata": {
        "id": "yZmM-H3JMYP6",
        "outputId": "6aed6533-d953-45ca-e13b-c8ad68843349"
      },
      "source": [
        "#     3. Write a Python program to create a union of set1 and set2.\n",
        "set1 = {10, 20, 30, 40, 50}\n",
        "set2 = {30, 40, 50, 60, 70}\n",
        "print(set1.union(set2))\n",
        "print(set2.union(set1))"
      ],
      "execution_count": null,
      "outputs": [
        {
          "output_type": "stream",
          "text": [
            "{70, 40, 10, 50, 20, 60, 30}\n",
            "{70, 40, 10, 50, 20, 60, 30}\n"
          ],
          "name": "stdout"
        }
      ]
    },
    {
      "cell_type": "code",
      "metadata": {
        "id": "XAEgNdICMYP6",
        "outputId": "45c77b85-6c84-4239-b3b2-47357f404be4"
      },
      "source": [
        "#     4. Write a Python program to clear a set1\n",
        "seT = {10, 20, 30, 40, 50}\n",
        "seT.clear()\n",
        "print(seT)\n"
      ],
      "execution_count": null,
      "outputs": [
        {
          "output_type": "stream",
          "text": [
            "set()\n"
          ],
          "name": "stdout"
        }
      ]
    },
    {
      "cell_type": "code",
      "metadata": {
        "id": "70y2SGLWMYP6",
        "outputId": "e5552c23-fa0f-4039-bc6c-b0b272fd8448"
      },
      "source": [
        "#     5. Add a list of elements to a given set\n",
        "# sampleSet = {\"Yellow\", \"Orange\", \"Black\"}\n",
        "# sampleList = [\"Blue\", \"Green\", \"Red\"]\n",
        "# Expected output:\n",
        "# In set item order is not a concern\n",
        "# {'Green', 'Yellow', 'Black', 'Orange', 'Red', 'Blue'}\n",
        "\n",
        "sampleSet = {\"Yellow\", \"Orange\", \"Black\"}\n",
        "sampleList = [\"Blue\", \"Green\", \"Red\"]\n",
        "sampleSet.update(sampleList)\n",
        "print(sampleSet)\n"
      ],
      "execution_count": null,
      "outputs": [
        {
          "output_type": "stream",
          "text": [
            "{'Red', 'Black', 'Blue', 'Green', 'Yellow', 'Orange'}\n"
          ],
          "name": "stdout"
        }
      ]
    },
    {
      "cell_type": "code",
      "metadata": {
        "id": "uuciqLMeMYP7",
        "outputId": "2ac18623-7823-4f4c-87d3-0e6be4ef811b"
      },
      "source": [
        "#     6. Write a program to find length of a set1.\n",
        "\n",
        "set1 = {10, 20, 30, 40, 50}\n",
        "print(len(set1))"
      ],
      "execution_count": null,
      "outputs": [
        {
          "output_type": "stream",
          "text": [
            "5\n"
          ],
          "name": "stdout"
        }
      ]
    },
    {
      "cell_type": "code",
      "metadata": {
        "id": "Gq_9sjKtMYP7",
        "outputId": "c4e508d1-629b-47f2-ab2f-51f5f63ecbd8"
      },
      "source": [
        "#     7. Write a program to remove 30 from  set2.\n",
        "set2 = {30, 40, 50, 60, 70}\n",
        "set2.remove(30)\n",
        "print(set2)"
      ],
      "execution_count": null,
      "outputs": [
        {
          "output_type": "stream",
          "text": [
            "{70, 40, 50, 60}\n"
          ],
          "name": "stdout"
        }
      ]
    },
    {
      "cell_type": "code",
      "metadata": {
        "id": "OozVYBvdMYP7",
        "outputId": "0ae5ade1-acb7-413f-ab18-8ea2a460b7f2"
      },
      "source": [
        "#     8. WAP to Returns a new set with all items from both sets by removing duplicates\n",
        "set1 = {10, 20, 30, 40, 50}\n",
        "set2 = {30, 40, 50, 60, 70}\n",
        "set1.update(set2)\n",
        "print(set1)\n"
      ],
      "execution_count": null,
      "outputs": [
        {
          "output_type": "stream",
          "text": [
            "{70, 40, 10, 50, 20, 60, 30}\n"
          ],
          "name": "stdout"
        }
      ]
    },
    {
      "cell_type": "code",
      "metadata": {
        "id": "Hxxfe5blMYP7",
        "outputId": "f5025b4d-caa1-4a66-ca39-273305c743f4"
      },
      "source": [
        "#     9. Write a program to pop an element from a set\n",
        "set1 = {10, 20, 30, 40, 50}\n",
        "set1.pop()\n",
        "print(set1)"
      ],
      "execution_count": null,
      "outputs": [
        {
          "output_type": "stream",
          "text": [
            "{10, 50, 20, 30}\n"
          ],
          "name": "stdout"
        }
      ]
    },
    {
      "cell_type": "code",
      "metadata": {
        "id": "GT2fva1wMYP7",
        "outputId": "0f78f266-ea65-4b25-b6bd-17d2aa6cc9a1"
      },
      "source": [
        "#     10. Return a set of identical items from a given two Python set\n",
        "# set1 = {10, 20, 30, 40, 50}\n",
        "# set2 = {30, 40, 50, 60, 70}\n",
        "# Expected output:\n",
        "# {40, 50, 30}\n",
        "\n",
        "set1 = {10, 20, 30, 40, 50}\n",
        "set2 = {30, 40, 50, 60, 70}\n",
        "set1.intersection_update(set2)\n",
        "print(set1)"
      ],
      "execution_count": null,
      "outputs": [
        {
          "output_type": "stream",
          "text": [
            "{40, 50, 30}\n"
          ],
          "name": "stdout"
        }
      ]
    },
    {
      "cell_type": "code",
      "metadata": {
        "id": "Nut_v5mSMYP8",
        "outputId": "67a95482-9c6e-45f6-e8fe-ee62d9917d6c"
      },
      "source": [
        "#     11. Determines whether or not the following two sets have any elements in common. If yes display the common elements\n",
        "# set1 = {10, 20, 30, 40, 50}\n",
        "# set2 = {60, 70, 80, 90, 10}\n",
        "# Expected output:\n",
        "# Two sets have items in common\n",
        "# {10}\n",
        "set1 = {10, 20, 30, 40, 50}\n",
        "set2 = {60, 70, 80, 90, 10}\n",
        "\n",
        "\n",
        "\n",
        "print(set1.intersection(set2))"
      ],
      "execution_count": null,
      "outputs": [
        {
          "output_type": "stream",
          "text": [
            "{10}\n"
          ],
          "name": "stdout"
        }
      ]
    },
    {
      "cell_type": "code",
      "metadata": {
        "id": "GiMqh--TMYP8",
        "outputId": "143a3d28-0e44-4729-d076-1bbdb8ec064c"
      },
      "source": [
        "#     12. Return a set of all elements in either A or B, but not both\n",
        "# set1 = {10, 20, 30, 40, 50}\n",
        "# set2 = {30, 40, 50, 60, 70}\n",
        "# Expected output:\n",
        "# {20, 70, 10, 60}\n",
        "set1 = {10, 20, 30, 40, 50}\n",
        "set2 = {30, 40, 50, 60, 70}\n",
        "\n",
        "set1.symmetric_difference_update(set2)\n",
        "print(set1)"
      ],
      "execution_count": null,
      "outputs": [
        {
          "output_type": "stream",
          "text": [
            "{70, 10, 20, 60}\n"
          ],
          "name": "stdout"
        }
      ]
    },
    {
      "cell_type": "code",
      "metadata": {
        "id": "69JXD_kzMYP8",
        "outputId": "12e6dc35-4a89-4947-b7ba-7c57d759e015"
      },
      "source": [
        "#     13. Given two Python sets, update first set with items that exist only in the first set and not in the second set.\n",
        "# set1 = {10, 20, 30}\n",
        "# set2 = {20, 40, 50}\n",
        "# Expected output:\n",
        "# set1 = {10, 30}\n",
        "set1 = {10, 20, 30}\n",
        "set2 = {20, 40, 50}\n",
        "\n",
        "set1.difference_update(set2)\n",
        "print(set1)"
      ],
      "execution_count": null,
      "outputs": [
        {
          "output_type": "stream",
          "text": [
            "{10, 30}\n"
          ],
          "name": "stdout"
        }
      ]
    },
    {
      "cell_type": "code",
      "metadata": {
        "id": "mP5TNTbWMYP8",
        "outputId": "84faff1f-1fa8-45d8-fb6c-d4547c25014b"
      },
      "source": [
        ""
      ],
      "execution_count": null,
      "outputs": [
        {
          "output_type": "execute_result",
          "data": {
            "text/plain": [
              "'\\n14. Remove 10, 20, 30 elements from a following set at once\\nset1 = {10, 20, 30, 40, 50}\\nExpected output:\\n{40, 50}\\n'"
            ]
          },
          "metadata": {
            "tags": []
          },
          "execution_count": 34
        }
      ]
    },
    {
      "cell_type": "code",
      "metadata": {
        "id": "aKaicaATMYP9",
        "outputId": "dee3e39f-c2d1-4d20-9933-5117360f86d0"
      },
      "source": [
        "#     15. Update set1 by adding items from set2, except common items\n",
        "# set1 = {10, 20, 30, 40, 50}\n",
        "# set2 = {30, 40, 50, 60, 70}\n",
        "# Expected output:\n",
        "# {70, 10, 20, 60}\n",
        "set1 = {10, 20, 30, 40, 50}\n",
        "set2 = {30, 40, 50, 60, 70}\n",
        "\n",
        "print(set1.symmetric_difference(set2))"
      ],
      "execution_count": null,
      "outputs": [
        {
          "output_type": "stream",
          "text": [
            "{20, 70, 10, 60}\n"
          ],
          "name": "stdout"
        }
      ]
    },
    {
      "cell_type": "code",
      "metadata": {
        "id": "_mUd3iQgMYP9",
        "outputId": "576fb5cd-8c01-4543-b9f5-558d2e32581a"
      },
      "source": [
        "#     16. Remove items from set1 that are not common to both set1 and set2\n",
        "# set1 = {10, 20, 30, 40, 50}\n",
        "# set2 = {30, 40, 50, 60, 70}\n",
        "# Expected output:\n",
        "# {40, 50, 30}\n",
        "set1 = {10, 20, 30, 40, 50}\n",
        "set2 = {30, 40, 50, 60, 70}\n",
        "\n",
        "set1.intersection_update(set2)\n",
        "print(set1)\n"
      ],
      "execution_count": null,
      "outputs": [
        {
          "output_type": "stream",
          "text": [
            "{40, 50, 30}\n"
          ],
          "name": "stdout"
        }
      ]
    },
    {
      "cell_type": "code",
      "metadata": {
        "id": "h0iRWfQvMYP9"
      },
      "source": [
        ""
      ],
      "execution_count": null,
      "outputs": []
    }
  ]
}