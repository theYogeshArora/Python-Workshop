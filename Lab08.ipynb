{
  "nbformat": 4,
  "nbformat_minor": 0,
  "metadata": {
    "language_info": {
      "codemirror_mode": {
        "name": "ipython",
        "version": 3
      },
      "file_extension": ".py",
      "mimetype": "text/x-python",
      "name": "python",
      "nbconvert_exporter": "python",
      "pygments_lexer": "ipython3",
      "version": "3.8.5-final"
    },
    "orig_nbformat": 2,
    "kernelspec": {
      "name": "python3",
      "display_name": "Python 3.8.5 32-bit",
      "metadata": {
        "interpreter": {
          "hash": "2bc9d3d03d6abd05a2a6b4e9db2e2f37b3c445a3e83321d2b915ec6cd4d6c2be"
        }
      }
    },
    "colab": {
      "name": "Lab08.ipynb",
      "provenance": [],
      "include_colab_link": true
    }
  },
  "cells": [
    {
      "cell_type": "markdown",
      "metadata": {
        "id": "view-in-github",
        "colab_type": "text"
      },
      "source": [
        "<a href=\"https://colab.research.google.com/github/theYogeshArora/Python-Workshop/blob/main/Lab08.ipynb\" target=\"_parent\"><img src=\"https://colab.research.google.com/assets/colab-badge.svg\" alt=\"Open In Colab\"/></a>"
      ]
    },
    {
      "cell_type": "code",
      "metadata": {
        "colab": {
          "base_uri": "https://localhost:8080/"
        },
        "id": "MZriohBZRLe1",
        "outputId": "b6ab0980-a9eb-43aa-e825-ff66c9115e1a"
      },
      "source": [
        "# Q1. Write a Python program that create a class tringle and define two methods, create_triangle() and print_sides().\n",
        "class Triangle:\n",
        "    a = 0\n",
        "    b = 0 \n",
        "    c = 0\n",
        "    def create_triangle(self, x, y, z):\n",
        "        self.a = x\n",
        "        self.b = y\n",
        "        self.c = z\n",
        "    def print_sides(self):\n",
        "        print(\"Sides of Triangle are: {}, {} and {}\".format(self.a, self.b, self.c))\n",
        "obj = Triangle()\n",
        "obj.create_triangle(10, 20, 30)\n",
        "obj.print_sides()"
      ],
      "execution_count": 1,
      "outputs": [
        {
          "output_type": "stream",
          "text": [
            "Sides of Triangle are: 10, 20 and 30\n"
          ],
          "name": "stdout"
        }
      ]
    },
    {
      "cell_type": "code",
      "metadata": {
        "colab": {
          "base_uri": "https://localhost:8080/"
        },
        "id": "eggBHWNQRLe6",
        "outputId": "17762463-9fde-414d-cfb9-30f98257aae3"
      },
      "source": [
        "# Q2. Write a Python program to create a class with two methods get_String() and print_String().\n",
        "class Method:\n",
        "    string = ''\n",
        "    def __init__(self, new_str):\n",
        "        self.string = new_str\n",
        "    def get_String(self):\n",
        "        return self.string\n",
        "    def print_String(self):\n",
        "        print(\"Using print_String: {}\".format(self.string))\n",
        "\n",
        "str_obj = Method(\"Hello, Yogesh\")\n",
        "obj = str_obj.get_String()\n",
        "print(\"Using get_String: {}\".format(obj))\n",
        "str_obj.print_String()"
      ],
      "execution_count": 3,
      "outputs": [
        {
          "output_type": "stream",
          "text": [
            "Using get_String: Hello, Yogesh\n",
            "Using print_String: Hello, Yogesh\n"
          ],
          "name": "stdout"
        }
      ]
    },
    {
      "cell_type": "code",
      "metadata": {
        "colab": {
          "base_uri": "https://localhost:8080/"
        },
        "id": "n8PoOEHBRLe8",
        "outputId": "5b0d911a-2347-48cf-874a-a9e4c71fefd5"
      },
      "source": [
        "# Q3. Write a Python program to create a class Rectangle that takes the parameter length and width. The class should also contain a method for computing its perimeter.\n",
        "class Rectangle:\n",
        "    length = 0\n",
        "    width = 0\n",
        "    def __init__(self, l, w):\n",
        "        self.length = l\n",
        "        self.width = w\n",
        "    def perimeter(self):\n",
        "        return 2 * (self.length + self.width)\n",
        "\n",
        "rect = Rectangle(10, 20)\n",
        "print(\"Perimeter of Rectangle is : {}\".format(rect.perimeter()))"
      ],
      "execution_count": 4,
      "outputs": [
        {
          "output_type": "stream",
          "text": [
            "Perimeter of Rectangle is : 60\n"
          ],
          "name": "stdout"
        }
      ]
    },
    {
      "cell_type": "code",
      "metadata": {
        "colab": {
          "base_uri": "https://localhost:8080/"
        },
        "id": "ei4Cjo07RLe-",
        "outputId": "10d60370-799c-4c20-fee3-af1b1b5b89ad"
      },
      "source": [
        "# Q4. Write a Python program to create a class Circle that takes the parameter radius. The class should also contain two methods for computing its area & perimeter respectively. Use constructor to implement initialization of parameters\n",
        "import math as m\n",
        "class Circle:\n",
        "    radius = 0.0\n",
        "    def __init__(self, r):\n",
        "        self.radius = r\n",
        "    def area(self):\n",
        "        return m.pi * pow(self.radius, 2)\n",
        "    def perimeter(self):\n",
        "        return 2 * m.pi * self.radius\n",
        "\n",
        "circle_obj = Circle(5)\n",
        "print(\"Perimeter of Circle is: {:.2f}\".format(circle_obj.perimeter()))\n",
        "print(\"Area of Circle is: {:.2f}\".format(circle_obj.area()))\n"
      ],
      "execution_count": 5,
      "outputs": [
        {
          "output_type": "stream",
          "text": [
            "Perimeter of Circle is: 31.42\n",
            "Area of Circle is: 78.54\n"
          ],
          "name": "stdout"
        }
      ]
    },
    {
      "cell_type": "code",
      "metadata": {
        "colab": {
          "base_uri": "https://localhost:8080/"
        },
        "id": "i1lHk6W0RLe-",
        "outputId": "82d40d8a-ecd0-4e9d-c415-f2a6ee57c8fb"
      },
      "source": [
        "# Q5. Create a Circle class and initialize it with radius. Make two methods getArea and getCircumference inside this class.\n",
        "class Circle:\n",
        "    radius = 3\n",
        "    def getArea(self):\n",
        "        return m.pi * pow(self.radius, 2)\n",
        "    def getCircumference(self):\n",
        "        return 2 * m.pi * self.radius\n",
        "\n",
        "obj = Circle()\n",
        "print(\"Area: {:.2f}\".format(obj.getArea()))\n",
        "print(\"Perimeter: {:.2f}\".format(obj.getCircumference()))"
      ],
      "execution_count": 6,
      "outputs": [
        {
          "output_type": "stream",
          "text": [
            "Area: 28.27\n",
            "Perimeter: 18.85\n"
          ],
          "name": "stdout"
        }
      ]
    },
    {
      "cell_type": "code",
      "metadata": {
        "colab": {
          "base_uri": "https://localhost:8080/"
        },
        "id": "z3HRurMYRLe_",
        "outputId": "f518e994-8683-4ad4-b3f1-ae43ea0c0fcb"
      },
      "source": [
        "# Q6. Create a Temperature class. Make two methods:\n",
        "# a) convertFahrenheit - It will take Celsius and will print it into Fahrenheit.\n",
        "# b) convertCelsius - It will take Fahrenheit and will convert it into Celsius.\n",
        "class Temperature:\n",
        "    def convertFahrenheit(self, C):\n",
        "        F = (C * 1.8) + 32\n",
        "        return F\n",
        "\n",
        "    def convertCelsius(self, F):\n",
        "        C = (F - 32) * 5/9\n",
        "        return C\n",
        "\n",
        "obj = Temperature()\n",
        "print(\"Celsius to Fahrenheit: {}\".format(obj.convertFahrenheit(100)))\n",
        "print(\"Fahrenheit to Celsius: {}\".format(obj.convertCelsius(212)))"
      ],
      "execution_count": 7,
      "outputs": [
        {
          "output_type": "stream",
          "text": [
            "Celsius to Fahrenheit: 212.0\n",
            "Fahrenheit to Celsius: 100.0\n"
          ],
          "name": "stdout"
        }
      ]
    },
    {
      "cell_type": "code",
      "metadata": {
        "colab": {
          "base_uri": "https://localhost:8080/"
        },
        "id": "rpfNRJK5RLfA",
        "outputId": "e68c74fd-077d-4c47-c519-072944891f7f"
      },
      "source": [
        "# Q7. Create a Student class and initialize it with name and roll number. Make methods to:\n",
        "# 1. Display - It should display all information’s of the student.\n",
        "# 2. setAge - It should assign age to student\n",
        "# 3. setMarks - It should assign marks to the student.\n",
        "class Student:\n",
        "    name = ''\n",
        "    rno = 0\n",
        "    age = None\n",
        "    marks = None\n",
        "    def __init__(self, name, rno):\n",
        "        self.name = name\n",
        "        self.rno = rno\n",
        "\n",
        "    def disp(self):\n",
        "        print(\"Name: {}, Roll no: {}, Age: {}, Marks: {}\".format(self.name, self.rno, self.age, self.marks))\n",
        "    def setAge(self, age):\n",
        "        self.age = age\n",
        "\n",
        "    def setMarks(self, marks):\n",
        "        self.marks = marks\n",
        "\n",
        "stud = Student(\"Yogesh\", 1120)\n",
        "stud.disp()\n",
        "stud.setAge(20)\n",
        "stud.setMarks(90)\n",
        "stud.disp()"
      ],
      "execution_count": 9,
      "outputs": [
        {
          "output_type": "stream",
          "text": [
            "Name: Yogesh, Roll no: 1120, Age: None, Marks: None\n",
            "Name: Yogesh, Roll no: 1120, Age: 20, Marks: 90\n"
          ],
          "name": "stdout"
        }
      ]
    },
    {
      "cell_type": "code",
      "metadata": {
        "colab": {
          "base_uri": "https://localhost:8080/"
        },
        "id": "Hlx5HPtFRLfC",
        "outputId": "20df399e-5a1c-49cd-a71e-c845b3c23c27"
      },
      "source": [
        "# Q8. Write a Python class to reverse a string word by word.\n",
        "class Rev:\n",
        "    def __init__(self, sentence):\n",
        "        self.sentence = sentence\n",
        "    \n",
        "    def reverseString(self):\n",
        "        var = self.sentence.split()\n",
        "        var.reverse()\n",
        "        print(\" \".join(var))\n",
        "\n",
        "obj = Rev(\"This is question nine of lab 8\")\n",
        "obj.reverseString()"
      ],
      "execution_count": 10,
      "outputs": [
        {
          "output_type": "stream",
          "text": [
            "8 lab of nine question is This\n"
          ],
          "name": "stdout"
        }
      ]
    }
  ]
}