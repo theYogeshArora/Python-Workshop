{
  "nbformat": 4,
  "nbformat_minor": 0,
  "metadata": {
    "language_info": {
      "codemirror_mode": {
        "name": "ipython",
        "version": 3
      },
      "file_extension": ".py",
      "mimetype": "text/x-python",
      "name": "python",
      "nbconvert_exporter": "python",
      "pygments_lexer": "ipython3",
      "version": "3.8.5"
    },
    "orig_nbformat": 2,
    "kernelspec": {
      "name": "python3",
      "display_name": "Python 3",
      "language": "python"
    },
    "colab": {
      "name": "Lab09.ipynb",
      "provenance": [],
      "include_colab_link": true
    }
  },
  "cells": [
    {
      "cell_type": "markdown",
      "metadata": {
        "id": "view-in-github",
        "colab_type": "text"
      },
      "source": [
        "<a href=\"https://colab.research.google.com/github/theYogeshArora/Python-Workshop/blob/main/Lab09.ipynb\" target=\"_parent\"><img src=\"https://colab.research.google.com/assets/colab-badge.svg\" alt=\"Open In Colab\"/></a>"
      ]
    },
    {
      "cell_type": "code",
      "metadata": {
        "colab": {
          "base_uri": "https://localhost:8080/"
        },
        "id": "xaTjkG3STo5s",
        "outputId": "5511dd80-1f3a-494f-9e9f-d2731587d975"
      },
      "source": [
        "# Q1. Write a Python program that has a class Animal with a method legs(). Create two subclasses Tiger and Dog, access the method leg explicitly with class Dog and implicitly with the class Tiger.\n",
        "class Animal:\n",
        "    def __init__(self):\n",
        "        pass\n",
        "\n",
        "    def legs(self, animalName, leg):\n",
        "        print(\"{} has {} legs.\".format(animalName, leg))\n",
        "\n",
        "class Tiger(Animal):\n",
        "    def __init__(self):\n",
        "        pass\n",
        "\n",
        "    def legs(self, animalName, leg):\n",
        "        print(\"{} has {} legs.\".format(animalName, leg))\n",
        "\n",
        "class Dog(Animal):\n",
        "    def __init__(self):\n",
        "        pass\n",
        "\n",
        "    def legs(self, animalName, leg):\n",
        "        super().legs(animalName, leg)\n",
        "\n",
        "dog = Dog()\n",
        "tiger = Tiger()\n",
        "tiger.legs(\"Tiger\", 4)\n",
        "dog.legs(\"Dog\", 4)"
      ],
      "execution_count": 1,
      "outputs": [
        {
          "output_type": "stream",
          "text": [
            "Tiger has 4 legs.\n",
            "Dog has 4 legs.\n"
          ],
          "name": "stdout"
        }
      ]
    },
    {
      "cell_type": "code",
      "metadata": {
        "colab": {
          "base_uri": "https://localhost:8080/"
        },
        "id": "DQVRi3gOTo50",
        "outputId": "72573202-19b3-4d10-fee1-72f5675afcb9"
      },
      "source": [
        "# Q2. Write a Python program to create a class Employee. Define two subclasses: Engineer and Manager. Every class should have method named printDesignation() that prints Engineer for Engineer class and Manager for Manager Class.\n",
        "class Employee:\n",
        "    def __init__(self):\n",
        "        pass\n",
        "      \n",
        "    def printDesignation(self, designation):\n",
        "        print(\"Designation: {}\".format(designation))\n",
        "\n",
        "class Engineer(Employee):\n",
        "    def __init__(self):\n",
        "        pass\n",
        "    \n",
        "    def printDesignation(self, designation):\n",
        "        super().printDesignation(designation)\n",
        "\n",
        "class Manager(Employee):\n",
        "    def __init__(self):\n",
        "        pass\n",
        "    \n",
        "    def printDesignation(self, designation):\n",
        "        super().printDesignation(designation)\n",
        "\n",
        "eng = Engineer()\n",
        "manage = Manager()\n",
        "\n",
        "eng.printDesignation(\"Engineer\")\n",
        "manage.printDesignation(\"Manager\")"
      ],
      "execution_count": 2,
      "outputs": [
        {
          "output_type": "stream",
          "text": [
            "Designation: Engineer\n",
            "Designation: Manager\n"
          ],
          "name": "stdout"
        }
      ]
    },
    {
      "cell_type": "code",
      "metadata": {
        "colab": {
          "base_uri": "https://localhost:8080/"
        },
        "id": "ZjY0VwyXTo52",
        "outputId": "ce3b915d-5ad5-4652-aeaf-c44edd8e88c6"
      },
      "source": [
        "# Q3. Write a Python program to demonstrate classes and their attributes.\n",
        "class User:\n",
        "    id = \"1120\"\n",
        "    name = \"Yogesh\"\n",
        "    age = 20\n",
        "\n",
        "    def __init__(self):\n",
        "        pass\n",
        "\n",
        "user = User()\n",
        "print(getattr(user, \"id\"))\n",
        "print(getattr(user, \"name\"))\n",
        "print(getattr(user, \"age\"))"
      ],
      "execution_count": 3,
      "outputs": [
        {
          "output_type": "stream",
          "text": [
            "1120\n",
            "Yogesh\n",
            "20\n"
          ],
          "name": "stdout"
        }
      ]
    },
    {
      "cell_type": "code",
      "metadata": {
        "colab": {
          "base_uri": "https://localhost:8080/"
        },
        "id": "q9VF3UTuTo53",
        "outputId": "c380167c-95ba-4990-80c4-21c91ac5d66f"
      },
      "source": [
        "# Q4. Write a Python program to demonstrate Inheritance and method overriding.\n",
        "class Bank:\n",
        "    def __init__(self):\n",
        "        pass\n",
        "    \n",
        "    def get_roi(self):\n",
        "        return 10\n",
        "\n",
        "class SBI(Bank):\n",
        "    def __init__(self):\n",
        "        pass\n",
        "    \n",
        "    def get_roi(self):\n",
        "        return 5\n",
        "\n",
        "class ICICI(Bank):\n",
        "    def __init__(self):\n",
        "        pass\n",
        "    \n",
        "    def get_roi(self):\n",
        "        return 8\n",
        "\n",
        "b1 = Bank()\n",
        "b2 = SBI()\n",
        "b3 = ICICI()\n",
        "print(\"Rate of interest of Bank: {}\".format(b1.get_roi()))\n",
        "print(\"Rate of interest of SBI: {}\".format(b2.get_roi()))\n",
        "print(\"Rate of interest of ICICI: {}\".format(b3.get_roi()))"
      ],
      "execution_count": 4,
      "outputs": [
        {
          "output_type": "stream",
          "text": [
            "Rate of interest of Bank: 10\n",
            "Rate of interest of SBI: 5\n",
            "Rate of interest of ICICI: 8\n"
          ],
          "name": "stdout"
        }
      ]
    },
    {
      "cell_type": "code",
      "metadata": {
        "colab": {
          "base_uri": "https://localhost:8080/"
        },
        "id": "EzZdTWrqTo54",
        "outputId": "15a18f42-5d0d-4ae2-99ba-7fa289a32f57"
      },
      "source": [
        "# Q5. Write a Python program to demonstrate multiple Inheritance.\n",
        "class Base1:\n",
        "    def __init__(self):\n",
        "        self.str1 = \"Geek1\"\n",
        "        print(\"Base1\")\n",
        "  \n",
        "class Base2:\n",
        "    def __init__(self):\n",
        "        self.str2 = \"Geek2\"        \n",
        "        print(\"Base2\")\n",
        "  \n",
        "class Derived(Base1, Base2):\n",
        "    def __init__(self):\n",
        "        Base1.__init__(self)\n",
        "        Base2.__init__(self)\n",
        "        print(\"Derived\")\n",
        "          \n",
        "    def printStrs(self):\n",
        "        print(self.str1, self.str2)\n",
        "         \n",
        "  \n",
        "ob = Derived()\n",
        "ob.printStrs()"
      ],
      "execution_count": 5,
      "outputs": [
        {
          "output_type": "stream",
          "text": [
            "Base1\n",
            "Base2\n",
            "Derived\n",
            "Geek1 Geek2\n"
          ],
          "name": "stdout"
        }
      ]
    }
  ]
}